{
  "cells": [
    {
      "cell_type": "code",
      "execution_count": 2,
      "metadata": {},
      "outputs": [
        {
          "name": "stdout",
          "output_type": "stream",
          "text": [
            "Working dir: /worxpace/workspace/zero-to-hero/zero_to_hero_homework/zero_to_hero_homework/exercises\n",
            "\n",
            "Dataset cherry picking: ['emma', 'olivia', 'ava', 'isabella', 'sophia', 'charlotte', 'mia', 'amelia']\n",
            "Dataset size: 32033\n"
          ]
        }
      ],
      "source": [
        "import torch\n",
        "import torch.nn as nn\n",
        "import torch.nn.functional as F\n",
        "import os\n",
        "import random\n",
        "import matplotlib.pyplot as plt \n",
        "%matplotlib inline\n",
        "\n",
        "\n",
        "device = torch.device(\"cuda:0\" if torch.cuda.is_available() else \"cpu\")\n",
        "\n",
        "#Reading Names Dataset\n",
        "print(f\"Working dir: {os.getcwd()}\")\n",
        "dataset_path = os.path.join(os.getcwd(), \"../makemore/names.txt\")\n",
        "words = open(dataset_path, 'r').read().splitlines()\n",
        "\n",
        "print(f\"\\nDataset cherry picking: {words[:8]}\")\n",
        "print(f\"Dataset size: {len(words)}\")"
      ]
    },
    {
      "attachments": {},
      "cell_type": "markdown",
      "metadata": {},
      "source": [
        "# Starter Code"
      ]
    },
    {
      "cell_type": "code",
      "execution_count": 3,
      "metadata": {},
      "outputs": [
        {
          "name": "stdout",
          "output_type": "stream",
          "text": [
            "Mapping index to string: {1: 'a', 2: 'b', 3: 'c', 4: 'd', 5: 'e', 6: 'f', 7: 'g', 8: 'h', 9: 'i', 10: 'j', 11: 'k', 12: 'l', 13: 'm', 14: 'n', 15: 'o', 16: 'p', 17: 'q', 18: 'r', 19: 's', 20: 't', 21: 'u', 22: 'v', 23: 'w', 24: 'x', 25: 'y', 26: 'z', 0: '.'}\n",
            "Mapping size: 27\n"
          ]
        }
      ],
      "source": [
        "# build the vocabulary of characters and mappings to/from integers\n",
        "chars = sorted(list(set(''.join(words))))\n",
        "stoi = {s:i+1 for i,s in enumerate(chars)}\n",
        "stoi['.'] = 0\n",
        "itos = {i:s for s,i in stoi.items()}\n",
        "print(f\"Mapping index to string: {itos}\")\n",
        "vocabulary_size = len(itos)\n",
        "print(f\"Mapping size: {vocabulary_size}\")\n"
      ]
    },
    {
      "cell_type": "code",
      "execution_count": 4,
      "metadata": {},
      "outputs": [
        {
          "name": "stdout",
          "output_type": "stream",
          "text": [
            "Train:\n",
            "Features: torch.Size([182625, 8]), torch.int64\n",
            "Labels: torch.Size([182625]), torch.int64\n",
            "Dev:\n",
            "Features: torch.Size([22655, 8]), torch.int64\n",
            "Labels: torch.Size([22655]), torch.int64\n",
            "Test:\n",
            "Features: torch.Size([22866, 8]), torch.int64\n",
            "Labels: torch.Size([22866]), torch.int64\n"
          ]
        }
      ],
      "source": [
        "SEED = 42\n",
        "\n",
        "block_size = 8 \n",
        "dev_index = 0.8 #80% Training.\n",
        "test_index = 0.9 #10% dev, 10% test.\n",
        "\n",
        "# build the datasetc\n",
        "def build_dataset(dataset = list, block_size = int):\n",
        "  # block_size: context length, how many characters do we take to predict the next one?\n",
        "  # returns: X as input features in size of contect length, Y as the labels.\n",
        "  \n",
        "  X, Y = [], []\n",
        "  for w in dataset:\n",
        "    \n",
        "    #print(w)\n",
        "    context = [0] * block_size\n",
        "    for ch in w + '.':\n",
        "      ix = stoi[ch]\n",
        "      X.append(context)\n",
        "      Y.append(ix)\n",
        "      #print(''.join(itos[i] for i in context), '--->', itos[ix])\n",
        "      context = context[1:] + [ix] # crop and append\n",
        "    \n",
        "  X = torch.tensor(X).to(device)\n",
        "  Y = torch.tensor(Y).to(device)\n",
        "  print(f\"Features: {X.shape}, {X.dtype}\\nLabels: {Y.shape}, {Y.dtype}\")\n",
        "  return X, Y\n",
        "  \n",
        "\n",
        "# Split the dataset to train ; dev/validation ; test\n",
        "random.seed(SEED) # Set seed for reproducibility\n",
        "random.shuffle(words)\n",
        "\n",
        "\n",
        "dev_dataset_index = int(dev_index*len(words))\n",
        "test_dataset_index = int(test_index*len(words))\n",
        "\n",
        "print(\"Train:\")\n",
        "Xtr, Ytr = build_dataset(words[:dev_dataset_index], block_size=block_size)\n",
        "print(\"Dev:\")\n",
        "Xdev, Ydev = build_dataset(words[dev_dataset_index:test_dataset_index], block_size=block_size)\n",
        "print(\"Test:\")\n",
        "Xte, Yte = build_dataset(words[test_dataset_index:], block_size=block_size)"
      ]
    },
    {
      "cell_type": "code",
      "execution_count": 5,
      "metadata": {
        "id": "CloXMPL2iL6n"
      },
      "outputs": [],
      "source": [
        "@torch.no_grad()\n",
        "def split_loss(split, model):\n",
        "    x, y = {\n",
        "        \"train\": (Xtr, Ytr),\n",
        "        \"valid\": (Xdev, Ydev),\n",
        "        \"test\": (Xte, Yte)\n",
        "    }[split]\n",
        "    logits = model(x)\n",
        "    loss = F.cross_entropy(logits, y)\n",
        "    return loss.item()"
      ]
    },
    {
      "cell_type": "code",
      "execution_count": 6,
      "metadata": {
        "id": "vA-i4sx_iM2T"
      },
      "outputs": [],
      "source": [
        "def sample(model):\n",
        "    # sampling from the model\n",
        "    for _ in range(20):\n",
        "        out = []\n",
        "        context = [0] * block_size\n",
        "        while True:\n",
        "            # Forward pass\n",
        "            logits = model(torch.tensor([context]).to(device))\n",
        "            probs = F.softmax(logits, dim = 1)\n",
        "\n",
        "            ix = torch.multinomial(probs, num_samples = 1).item()\n",
        "\n",
        "            # Shift the Context Window\n",
        "            context = context[1:] + [ix]\n",
        "\n",
        "            if ix == 0:\n",
        "                break\n",
        "\n",
        "            out.append(ix)\n",
        "        \n",
        "        print(\"\".join(itos[i] for i in out))\n",
        "        "
      ]
    },
    {
      "attachments": {},
      "cell_type": "markdown",
      "metadata": {},
      "source": [
        "# E01: using torch.nn Module instead of custom classes\n",
        "\n",
        "- I commented the batchnorm parts since it (surprisingly) made the model worse\n",
        "- the transpose lines before and after the batchnorm since the implementation of custom class `BatchNorm1d` in the original video has the input in format (N, L, C) instead of (N, C, L) as in the torch implementation"
      ]
    },
    {
      "cell_type": "code",
      "execution_count": 7,
      "metadata": {},
      "outputs": [],
      "source": [
        "class FlattenConsecutive(nn.Module):\n",
        "    def __init__(self, n):\n",
        "        super().__init__()  # Initialize parent nn.Module class\n",
        "        self.n = n\n",
        "    \n",
        "    def forward(self, x):\n",
        "        B, T, C = x.shape  # B=batch size, T=sequence length, C=channels\n",
        "        # Reshape while keeping 3D shape even when T//self.n == 1\n",
        "        x = x.contiguous().view(B, T//self.n, C*self.n)\n",
        "        return x\n",
        "    \n",
        "# Create a custom layer for transpose+batchnorm+transpose\n",
        "class BatchNormWithTranspose(nn.Module):\n",
        "    def __init__(self, n_hidden):\n",
        "        super().__init__()\n",
        "        self.bn = nn.BatchNorm1d(n_hidden)\n",
        "        \n",
        "    def forward(self, x):\n",
        "        # (N, L, C) -> (N, C, L)\n",
        "        x = x.transpose(1, 2)\n",
        "        x = self.bn(x)\n",
        "        # (N, C, L) -> (N, L, C)\n",
        "        x = x.transpose(1, 2)\n",
        "        return x"
      ]
    },
    {
      "cell_type": "code",
      "execution_count": 8,
      "metadata": {
        "id": "_juxHbodiObu"
      },
      "outputs": [],
      "source": [
        "class Model(nn.Module):\n",
        "    def __init__(self, vocabulary_size, n_embed, n_hidden):\n",
        "        super(Model, self).__init__()\n",
        "\n",
        "        self.model = nn.Sequential(\n",
        "            # Embedding\n",
        "            nn.Embedding(vocabulary_size, n_embed),\n",
        "            # block 1\n",
        "            FlattenConsecutive(2), \n",
        "            nn.Linear(n_embed * 2, n_hidden, bias=False),\n",
        "            #BatchNormWithTranspose(n_hidden),\n",
        "            nn.Tanh(),\n",
        "            # block 2\n",
        "            FlattenConsecutive(2),\n",
        "            nn.Linear(n_hidden * 2, n_hidden, bias=False),\n",
        "            #BatchNormWithTranspose(n_hidden),\n",
        "            nn.Tanh(),\n",
        "            # block 3\n",
        "            FlattenConsecutive(2),\n",
        "            nn.Linear(n_hidden * 2, n_hidden, bias=False),\n",
        "            #BatchNormWithTranspose(n_hidden),\n",
        "            nn.Tanh(),\n",
        "            # output\n",
        "            nn.Linear(n_hidden, vocabulary_size, bias=False),\n",
        "        )\n",
        "        \n",
        "    def weights_init(self):\n",
        "        if isinstance(self.model, nn.Linear):\n",
        "            nn.init.kaiming_normal_(self.model.weight, mode='fan_in', nonlinearity='tanh')\n",
        "\n",
        "    def forward(self, x):\n",
        "        x = self.model.forward(x)\n",
        "        return x.squeeze(1)\n"
      ]
    },
    {
      "attachments": {},
      "cell_type": "markdown",
      "metadata": {},
      "source": [
        "# Init The Model, weights and Training\n",
        "## E02: beating the 1.993 validation loss"
      ]
    },
    {
      "cell_type": "code",
      "execution_count": 9,
      "metadata": {},
      "outputs": [],
      "source": [
        "n_embed = 32\n",
        "n_hidden = 256\n",
        "\n",
        "model = Model(vocabulary_size, n_embed, n_hidden).to(device)\n",
        "model.weights_init()\n",
        "model(Xtr[:10]);\n"
      ]
    },
    {
      "cell_type": "code",
      "execution_count": 10,
      "metadata": {
        "colab": {
          "base_uri": "https://localhost:8080/"
        },
        "id": "d_aRKJp5A9m3",
        "outputId": "0a456dc0-dcb3-40ac-e28b-f3e0c0f9a36f"
      },
      "outputs": [
        {
          "name": "stderr",
          "output_type": "stream",
          "text": [
            "/opt/conda/lib/python3.10/site-packages/torch/optim/lr_scheduler.py:60: UserWarning: The verbose parameter is deprecated. Please use get_last_lr() to access the learning rate.\n",
            "  warnings.warn(\n"
          ]
        },
        {
          "name": "stdout",
          "output_type": "stream",
          "text": [
            "epoch : 0 train_loss : 2.377549171447754 dev_loss : 2.369610548019409\n",
            "epoch : 1 train_loss : 2.2863473892211914 dev_loss : 2.282841444015503\n",
            "epoch : 2 train_loss : 2.2423665523529053 dev_loss : 2.2434253692626953\n",
            "epoch : 3 train_loss : 2.213505983352661 dev_loss : 2.2178421020507812\n",
            "epoch : 4 train_loss : 2.1913397312164307 dev_loss : 2.1982297897338867\n",
            "epoch : 5 train_loss : 2.1728572845458984 dev_loss : 2.182048797607422\n",
            "epoch : 6 train_loss : 2.1568987369537354 dev_loss : 2.1682000160217285\n",
            "epoch : 7 train_loss : 2.142775774002075 dev_loss : 2.155988931655884\n",
            "epoch : 8 train_loss : 2.130016326904297 dev_loss : 2.1450185775756836\n",
            "epoch : 9 train_loss : 2.1183106899261475 dev_loss : 2.1350607872009277\n",
            "epoch : 10 train_loss : 2.107407808303833 dev_loss : 2.1259429454803467\n",
            "epoch : 11 train_loss : 2.0971405506134033 dev_loss : 2.11751389503479\n",
            "epoch : 12 train_loss : 2.0873630046844482 dev_loss : 2.1096537113189697\n",
            "epoch : 13 train_loss : 2.077977180480957 dev_loss : 2.102271795272827\n",
            "epoch : 14 train_loss : 2.068930149078369 dev_loss : 2.0953056812286377\n",
            "epoch : 15 train_loss : 2.0601682662963867 dev_loss : 2.088710069656372\n",
            "epoch : 16 train_loss : 2.051656723022461 dev_loss : 2.082448720932007\n",
            "epoch : 17 train_loss : 2.043360710144043 dev_loss : 2.076500654220581\n",
            "epoch : 18 train_loss : 2.0352718830108643 dev_loss : 2.0708487033843994\n",
            "epoch : 19 train_loss : 2.0273776054382324 dev_loss : 2.065478801727295\n",
            "epoch : 20 train_loss : 2.0196642875671387 dev_loss : 2.060382127761841\n",
            "epoch : 21 train_loss : 2.0121235847473145 dev_loss : 2.055546760559082\n",
            "epoch : 22 train_loss : 2.0047502517700195 dev_loss : 2.0509605407714844\n",
            "epoch : 23 train_loss : 1.9975463151931763 dev_loss : 2.0466108322143555\n",
            "epoch : 24 train_loss : 1.9904817342758179 dev_loss : 2.0424883365631104\n",
            "epoch : 25 train_loss : 1.9835506677627563 dev_loss : 2.0385797023773193\n",
            "epoch : 26 train_loss : 1.9767452478408813 dev_loss : 2.0348758697509766\n",
            "epoch : 27 train_loss : 1.9700636863708496 dev_loss : 2.0313704013824463\n",
            "epoch : 28 train_loss : 1.9635009765625 dev_loss : 2.0280566215515137\n",
            "epoch : 29 train_loss : 1.9570410251617432 dev_loss : 2.0249271392822266\n",
            "epoch : 30 train_loss : 1.9506981372833252 dev_loss : 2.021972894668579\n",
            "epoch : 31 train_loss : 1.9444429874420166 dev_loss : 2.0191848278045654\n",
            "epoch : 32 train_loss : 1.9383009672164917 dev_loss : 2.0165553092956543\n",
            "epoch : 33 train_loss : 1.9322417974472046 dev_loss : 2.0140767097473145\n",
            "epoch : 34 train_loss : 1.9262971878051758 dev_loss : 2.0117416381835938\n",
            "epoch : 35 train_loss : 1.9204411506652832 dev_loss : 2.00954270362854\n",
            "epoch : 36 train_loss : 1.9146870374679565 dev_loss : 2.007476806640625\n",
            "epoch : 37 train_loss : 1.9090309143066406 dev_loss : 2.005537271499634\n",
            "epoch : 38 train_loss : 1.9034687280654907 dev_loss : 2.0037214756011963\n",
            "epoch : 39 train_loss : 1.8980077505111694 dev_loss : 2.0020244121551514\n",
            "epoch : 40 train_loss : 1.892645239830017 dev_loss : 2.0004446506500244\n",
            "epoch : 41 train_loss : 1.8873775005340576 dev_loss : 1.9989792108535767\n",
            "epoch : 42 train_loss : 1.8821979761123657 dev_loss : 1.997624397277832\n",
            "epoch : 43 train_loss : 1.8771196603775024 dev_loss : 1.9963783025741577\n",
            "epoch : 44 train_loss : 1.872126817703247 dev_loss : 1.9952367544174194\n",
            "epoch : 45 train_loss : 1.8672219514846802 dev_loss : 1.9941965341567993\n",
            "epoch : 46 train_loss : 1.862414836883545 dev_loss : 1.9932544231414795\n",
            "epoch : 47 train_loss : 1.8576757907867432 dev_loss : 1.9924076795578003\n",
            "epoch : 48 train_loss : 1.8530272245407104 dev_loss : 1.9916517734527588\n",
            "epoch : 49 train_loss : 1.8484498262405396 dev_loss : 1.9909857511520386\n",
            "epoch : 50 train_loss : 1.843947410583496 dev_loss : 1.9904048442840576\n",
            "epoch : 51 train_loss : 1.8395193815231323 dev_loss : 1.9899061918258667\n",
            "epoch : 52 train_loss : 1.8351612091064453 dev_loss : 1.9894871711730957\n",
            "epoch : 53 train_loss : 1.8308689594268799 dev_loss : 1.9891457557678223\n",
            "epoch : 54 train_loss : 1.8266370296478271 dev_loss : 1.9888794422149658\n",
            "epoch : 55 train_loss : 1.8224623203277588 dev_loss : 1.9886863231658936\n",
            "epoch : 56 train_loss : 1.8183550834655762 dev_loss : 1.9885612726211548\n",
            "epoch : 57 train_loss : 1.8143025636672974 dev_loss : 1.9885053634643555\n",
            "epoch : 58 train_loss : 1.8103079795837402 dev_loss : 1.988513469696045\n",
            "epoch : 59 train_loss : 1.8063571453094482 dev_loss : 1.9885867834091187\n",
            "epoch : 60 train_loss : 1.8024630546569824 dev_loss : 1.9887176752090454\n",
            "epoch : 61 train_loss : 1.798612117767334 dev_loss : 1.9889100790023804\n",
            "epoch : 62 train_loss : 1.7948158979415894 dev_loss : 1.9891585111618042\n",
            "epoch : 63 train_loss : 1.7797126770019531 dev_loss : 1.978142261505127\n",
            "epoch : 64 train_loss : 1.7772380113601685 dev_loss : 1.9784061908721924\n",
            "epoch : 65 train_loss : 1.7750070095062256 dev_loss : 1.978790521621704\n",
            "epoch : 66 train_loss : 1.7728595733642578 dev_loss : 1.9791995286941528\n",
            "epoch : 67 train_loss : 1.7707633972167969 dev_loss : 1.9796124696731567\n",
            "epoch : 68 train_loss : 1.768703818321228 dev_loss : 1.9800294637680054\n",
            "epoch : 69 train_loss : 1.7666702270507812 dev_loss : 1.9804480075836182\n",
            "epoch : 70 train_loss : 1.7592462301254272 dev_loss : 1.9752511978149414\n",
            "epoch : 71 train_loss : 1.757943868637085 dev_loss : 1.9754273891448975\n",
            "epoch : 72 train_loss : 1.7567704916000366 dev_loss : 1.975677490234375\n",
            "epoch : 73 train_loss : 1.7556382417678833 dev_loss : 1.9759418964385986\n",
            "epoch : 74 train_loss : 1.7545222043991089 dev_loss : 1.976211428642273\n",
            "epoch : 75 train_loss : 1.7534291744232178 dev_loss : 1.97648024559021\n",
            "epoch : 76 train_loss : 1.7523465156555176 dev_loss : 1.9767502546310425\n",
            "epoch : 77 train_loss : 1.7490317821502686 dev_loss : 1.9747122526168823\n",
            "epoch : 78 train_loss : 1.7483538389205933 dev_loss : 1.9748369455337524\n",
            "epoch : 79 train_loss : 1.747748613357544 dev_loss : 1.9749842882156372\n",
            "epoch : 80 train_loss : 1.7471702098846436 dev_loss : 1.975136399269104\n",
            "epoch : 81 train_loss : 1.746595859527588 dev_loss : 1.9752910137176514\n",
            "epoch : 82 train_loss : 1.7460230588912964 dev_loss : 1.975446105003357\n",
            "epoch : 83 train_loss : 1.7454609870910645 dev_loss : 1.9755996465682983\n",
            "epoch : 84 train_loss : 1.744023084640503 dev_loss : 1.9748406410217285\n",
            "epoch : 85 train_loss : 1.7436726093292236 dev_loss : 1.974932074546814\n",
            "epoch : 86 train_loss : 1.7433586120605469 dev_loss : 1.9750235080718994\n",
            "epoch : 87 train_loss : 1.7430607080459595 dev_loss : 1.9751110076904297\n",
            "epoch : 88 train_loss : 1.7427725791931152 dev_loss : 1.9751979112625122\n",
            "epoch : 89 train_loss : 1.7424805164337158 dev_loss : 1.9752835035324097\n",
            "epoch : 90 train_loss : 1.7419143915176392 dev_loss : 1.9749733209609985\n",
            "epoch : 91 train_loss : 1.7417291402816772 dev_loss : 1.9750217199325562\n",
            "epoch : 92 train_loss : 1.7415744066238403 dev_loss : 1.9750769138336182\n",
            "epoch : 93 train_loss : 1.7414215803146362 dev_loss : 1.975127935409546\n",
            "epoch : 94 train_loss : 1.7412751913070679 dev_loss : 1.9751774072647095\n",
            "epoch : 95 train_loss : 1.7411314249038696 dev_loss : 1.9752248525619507\n",
            "epoch : 96 train_loss : 1.7409058809280396 dev_loss : 1.975062370300293\n",
            "epoch : 97 train_loss : 1.7408112287521362 dev_loss : 1.9750803709030151\n",
            "epoch : 98 train_loss : 1.7407333850860596 dev_loss : 1.9751077890396118\n",
            "epoch : 99 train_loss : 1.7406601905822754 dev_loss : 1.9751356840133667\n"
          ]
        }
      ],
      "source": [
        "optimizer = torch.optim.SGD(model.parameters(), lr=0.01)\n",
        "scheduler = torch.optim.lr_scheduler.ReduceLROnPlateau(optimizer, mode='min', factor=0.5, patience=5, verbose=True)\n",
        "train_losses = []\n",
        "dev_losses = []\n",
        "batch_size = 64\n",
        "\n",
        "for epoch in range(100):\n",
        "    model.train()\n",
        "\n",
        "    for i in range(0, len(Xtr), batch_size):\n",
        "        x = Xtr[i:i+batch_size]\n",
        "        y = Ytr[i:i+batch_size]\n",
        "\n",
        "        logits = model(x)\n",
        "        loss = F.cross_entropy(logits, y)\n",
        "\n",
        "        optimizer.zero_grad()\n",
        "        loss.backward()\n",
        "        optimizer.step()\n",
        "\n",
        "    model.eval()\n",
        "    train_loss = split_loss('train', model)\n",
        "    dev_loss = split_loss('valid', model)\n",
        "    train_losses.append(train_loss)\n",
        "    dev_losses.append(dev_loss)\n",
        "\n",
        "    scheduler.step(dev_loss)\n",
        "\n",
        "    print(f\"epoch : {epoch} train_loss : {train_loss} dev_loss : {dev_loss}\")"
      ]
    },
    {
      "cell_type": "code",
      "execution_count": 11,
      "metadata": {
        "id": "ynl_vofcAvDf"
      },
      "outputs": [],
      "source": [
        "torch.save(model.state_dict(), \"wave_net_bn_best_pth\")"
      ]
    },
    {
      "cell_type": "code",
      "execution_count": 12,
      "metadata": {
        "colab": {
          "base_uri": "https://localhost:8080/",
          "height": 466
        },
        "id": "Td-jcyFHikIE",
        "outputId": "74643700-c561-4c83-976e-24c48730fad9"
      },
      "outputs": [
        {
          "data": {
            "text/plain": [
              "<matplotlib.legend.Legend at 0x7fff19196950>"
            ]
          },
          "execution_count": 12,
          "metadata": {},
          "output_type": "execute_result"
        },
        {
          "data": {
            "image/png": "[encoded data removed]",
            "text/plain": [
              "<Figure size 640x480 with 1 Axes>"
            ]
          },
          "metadata": {},
          "output_type": "display_data"
        }
      ],
      "source": [
        "# plot train and dev losses\n",
        "plt.plot(train_losses, label = 'train')\n",
        "plt.plot(dev_losses, label = 'dev')\n",
        "\n",
        "plt.xlabel('epoch')\n",
        "plt.ylabel('loss')\n",
        "\n",
        "plt.legend()"
      ]
    },
    {
      "cell_type": "code",
      "execution_count": 13,
      "metadata": {
        "colab": {
          "base_uri": "https://localhost:8080/"
        },
        "id": "uzDjIkqX6Uev",
        "outputId": "3c870a78-73fc-4ccc-efec-b1beb7227f9c"
      },
      "outputs": [
        {
          "name": "stdout",
          "output_type": "stream",
          "text": [
            "Training Loss: 1.741\n",
            "Validation Loss: 1.975\n",
            "Test Loss: 1.981\n"
          ]
        }
      ],
      "source": [
        "print(f\"Training Loss: {split_loss('train', model):0.3f}\")\n",
        "print(f\"Validation Loss: {split_loss('valid', model):0.3f}\")\n",
        "print(f\"Test Loss: {split_loss('test', model):0.3f}\")"
      ]
    },
    {
      "cell_type": "code",
      "execution_count": 14,
      "metadata": {
        "colab": {
          "base_uri": "https://localhost:8080/"
        },
        "id": "J7TWv5Uqrn-4",
        "outputId": "1a91fe4b-2bb3-4d6d-9091-8f793b7286d8"
      },
      "outputs": [
        {
          "name": "stdout",
          "output_type": "stream",
          "text": [
            "henfiniti\n",
            "mikenzie\n",
            "jansel\n",
            "bronathan\n",
            "chelchel\n",
            "franciel\n",
            "mill\n",
            "grahima\n",
            "cair\n",
            "marijancess\n",
            "kacey\n",
            "jaliah\n",
            "kinleigh\n",
            "atesani\n",
            "eladie\n",
            "kynzley\n",
            "zylas\n",
            "brene\n",
            "finnon\n",
            "malloria\n"
          ]
        }
      ],
      "source": [
        "sample(model)"
      ]
    },
    {
      "attachments": {},
      "cell_type": "markdown",
      "metadata": {},
      "source": [
        "# # E03: Using Convolutions"
      ]
    },
    {
      "cell_type": "code",
      "execution_count": 9,
      "metadata": {},
      "outputs": [],
      "source": [
        "class ModelCnn(nn.Module):\n",
        "    def __init__(self, vocab_size, n_embed, n_hidden, n_layers):\n",
        "        super(ModelCnn, self).__init__()\n",
        "        self.n_layers = n_layers\n",
        "        self.embedding = nn.Embedding(vocab_size, n_embed)\n",
        "        self.fc1 = nn.Linear(n_embed, n_hidden, bias=False)\n",
        "\n",
        "        for i in range(n_layers):\n",
        "            setattr(self, f\"conv1d_{i}\", nn.Conv1d(in_channels=n_hidden, out_channels=n_hidden, kernel_size=2, stride=2, bias=False, dilation=1, padding=0))\n",
        "            setattr(self, f\"bn{i}\", nn.BatchNorm1d(n_hidden))\n",
        "    \n",
        "\n",
        "        self.fc2 = nn.Linear(n_hidden, vocab_size, bias=False)\n",
        "    \n",
        "    def forward(self, x):\n",
        "        x = self.embedding(x)\n",
        "        x = self.fc1(x)\n",
        "        x = F.tanh(x)\n",
        "        x = x.transpose(1,2)\n",
        "\n",
        "        for i in range(self.n_layers):\n",
        "            conv1d = getattr(self, f\"conv1d_{i}\")\n",
        "            bn = getattr(self, f\"bn{i}\")\n",
        "            x = conv1d(x)\n",
        "\n",
        "            x = bn(x)\n",
        "            x = F.tanh(x)\n",
        "\n",
        "        x = x.squeeze(-1)\n",
        "        x = self.fc2(x)\n",
        "        return x"
      ]
    },
    {
      "cell_type": "code",
      "execution_count": 19,
      "metadata": {},
      "outputs": [],
      "source": [
        "n_embed = 25\n",
        "n_hidden = 80\n",
        "\n",
        "model = ModelCnn(vocab_size= vocab_size, n_embed= n_embed, n_hidden= n_hidden, n_layers= 3).to(device)\n",
        "model(Xtr[:10]);\n",
        "train_losses = []\n",
        "dev_losses = []"
      ]
    },
    {
      "cell_type": "code",
      "execution_count": null,
      "metadata": {},
      "outputs": [],
      "source": [
        "optimizer = torch.optim.SGD(model.parameters(), lr=0.1)\n",
        "scheduler = torch.optim.lr_scheduler.ReduceLROnPlateau(optimizer, mode='min', factor=0.5, patience=5, verbose=True)\n",
        "\n",
        "for epoch in range(100):\n",
        "    model.train()\n",
        "\n",
        "    for i in range(0, len(Xtr), 64):\n",
        "        x = Xtr[i:i+64]\n",
        "        y = Ytr[i:i+64]\n",
        "\n",
        "        logits = model(x)\n",
        "        loss = F.cross_entropy(logits, y)\n",
        "\n",
        "        optimizer.zero_grad()\n",
        "        loss.backward()\n",
        "        optimizer.step()\n",
        "\n",
        "    model.eval()\n",
        "    train_loss = split_loss('train', model)\n",
        "    dev_loss = split_loss('valid', model)\n",
        "    train_losses.append(train_loss)\n",
        "    dev_losses.append(dev_loss)\n",
        "\n",
        "    scheduler.step(dev_loss)\n",
        "\n",
        "    print(f\"epoch : {epoch} train_loss : {train_loss} dev_loss : {dev_loss}\")"
      ]
    },
    {
      "cell_type": "code",
      "execution_count": null,
      "metadata": {},
      "outputs": [],
      "source": [
        "# plot train and dev losses\n",
        "plt.plot(train_losses, label = 'train')\n",
        "plt.plot(dev_losses, label = 'dev')\n",
        "\n",
        "plt.xlabel('epoch')\n",
        "plt.ylabel('loss')\n",
        "\n",
        "plt.legend()"
      ]
    },
    {
      "cell_type": "code",
      "execution_count": null,
      "metadata": {},
      "outputs": [],
      "source": [
        "print(f\"Training Loss: {split_loss('train', model):0.3f}\")\n",
        "print(f\"Validation Loss: {split_loss('valid', model):0.3f}\")\n",
        "print(f\"Test Loss: {split_loss('test', model):0.3f}\")"
      ]
    },
    {
      "cell_type": "code",
      "execution_count": null,
      "metadata": {},
      "outputs": [],
      "source": [
        "sample(model)"
      ]
    },
    {
      "cell_type": "code",
      "execution_count": null,
      "metadata": {},
      "outputs": [],
      "source": []
    }
  ],
  "metadata": {
    "accelerator": "GPU",
    "colab": {
      "gpuType": "T4",
      "provenance": []
    },
    "kernelspec": {
      "display_name": "Python (micromamba)",
      "language": "python",
      "name": "base"
    },
    "language_info": {
      "codemirror_mode": {
        "name": "ipython",
        "version": 3
      },
      "file_extension": ".py",
      "mimetype": "text/x-python",
      "name": "python",
      "nbconvert_exporter": "python",
      "pygments_lexer": "ipython3",
      "version": "3.10.14"
    }
  },
  "nbformat": 4,
  "nbformat_minor": 0
}
