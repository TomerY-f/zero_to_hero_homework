{
  "cells": [
    {
      "cell_type": "code",
      "execution_count": 1,
      "metadata": {},
      "outputs": [
        {
          "name": "stdout",
          "output_type": "stream",
          "text": [
            "Working dir: /worxpace/workspace/zero-to-hero/zero_to_hero_homework/zero_to_hero_homework/exercises\n",
            "\n",
            "Dataset cherry picking: ['emma', 'olivia', 'ava', 'isabella', 'sophia', 'charlotte', 'mia', 'amelia']\n",
            "Dataset size: 32033\n"
          ]
        }
      ],
      "source": [
        "import torch\n",
        "import torch.nn as nn\n",
        "import torch.nn.functional as F\n",
        "import os\n",
        "import random\n",
        "import matplotlib.pyplot as plt \n",
        "%matplotlib inline\n",
        "\n",
        "\n",
        "device = torch.device(\"cuda:0\" if torch.cuda.is_available() else \"cpu\")\n",
        "\n",
        "#Reading Names Dataset\n",
        "print(f\"Working dir: {os.getcwd()}\")\n",
        "dataset_path = os.path.join(os.getcwd(), \"../makemore/names.txt\")\n",
        "words = open(dataset_path, 'r').read().splitlines()\n",
        "\n",
        "print(f\"\\nDataset cherry picking: {words[:8]}\")\n",
        "print(f\"Dataset size: {len(words)}\")"
      ]
    },
    {
      "attachments": {},
      "cell_type": "markdown",
      "metadata": {},
      "source": [
        "# Starter Code"
      ]
    },
    {
      "cell_type": "code",
      "execution_count": 2,
      "metadata": {},
      "outputs": [
        {
          "name": "stdout",
          "output_type": "stream",
          "text": [
            "Mapping index to string: {1: 'a', 2: 'b', 3: 'c', 4: 'd', 5: 'e', 6: 'f', 7: 'g', 8: 'h', 9: 'i', 10: 'j', 11: 'k', 12: 'l', 13: 'm', 14: 'n', 15: 'o', 16: 'p', 17: 'q', 18: 'r', 19: 's', 20: 't', 21: 'u', 22: 'v', 23: 'w', 24: 'x', 25: 'y', 26: 'z', 0: '.'}\n",
            "Mapping size: 27\n"
          ]
        }
      ],
      "source": [
        "# build the vocabulary of characters and mappings to/from integers\n",
        "chars = sorted(list(set(''.join(words))))\n",
        "stoi = {s:i+1 for i,s in enumerate(chars)}\n",
        "stoi['.'] = 0\n",
        "itos = {i:s for s,i in stoi.items()}\n",
        "print(f\"Mapping index to string: {itos}\")\n",
        "vocabulary_size = len(itos)\n",
        "print(f\"Mapping size: {vocabulary_size}\")\n"
      ]
    },
    {
      "cell_type": "code",
      "execution_count": 3,
      "metadata": {},
      "outputs": [
        {
          "name": "stdout",
          "output_type": "stream",
          "text": [
            "Train:\n",
            "Features: torch.Size([182625, 8]), torch.int64\n",
            "Labels: torch.Size([182625]), torch.int64\n",
            "Dev:\n",
            "Features: torch.Size([22655, 8]), torch.int64\n",
            "Labels: torch.Size([22655]), torch.int64\n",
            "Test:\n",
            "Features: torch.Size([22866, 8]), torch.int64\n",
            "Labels: torch.Size([22866]), torch.int64\n"
          ]
        }
      ],
      "source": [
        "SEED = 42\n",
        "\n",
        "block_size = 8 \n",
        "dev_index = 0.8 #80% Training.\n",
        "test_index = 0.9 #10% dev, 10% test.\n",
        "\n",
        "# build the datasetc\n",
        "def build_dataset(dataset = list, block_size = int):\n",
        "  # block_size: context length, how many characters do we take to predict the next one?\n",
        "  # returns: X as input features in size of contect length, Y as the labels.\n",
        "  \n",
        "  X, Y = [], []\n",
        "  for w in dataset:\n",
        "    \n",
        "    #print(w)\n",
        "    context = [0] * block_size\n",
        "    for ch in w + '.':\n",
        "      ix = stoi[ch]\n",
        "      X.append(context)\n",
        "      Y.append(ix)\n",
        "      #print(''.join(itos[i] for i in context), '--->', itos[ix])\n",
        "      context = context[1:] + [ix] # crop and append\n",
        "    \n",
        "  X = torch.tensor(X).to(device)\n",
        "  Y = torch.tensor(Y).to(device)\n",
        "  print(f\"Features: {X.shape}, {X.dtype}\\nLabels: {Y.shape}, {Y.dtype}\")\n",
        "  return X, Y\n",
        "  \n",
        "\n",
        "# Split the dataset to train ; dev/validation ; test\n",
        "random.seed(SEED) # Set seed for reproducibility\n",
        "random.shuffle(words)\n",
        "\n",
        "\n",
        "dev_dataset_index = int(dev_index*len(words))\n",
        "test_dataset_index = int(test_index*len(words))\n",
        "\n",
        "print(\"Train:\")\n",
        "Xtr, Ytr = build_dataset(words[:dev_dataset_index], block_size=block_size)\n",
        "print(\"Dev:\")\n",
        "Xdev, Ydev = build_dataset(words[dev_dataset_index:test_dataset_index], block_size=block_size)\n",
        "print(\"Test:\")\n",
        "Xte, Yte = build_dataset(words[test_dataset_index:], block_size=block_size)"
      ]
    },
    {
      "cell_type": "code",
      "execution_count": 4,
      "metadata": {
        "id": "CloXMPL2iL6n"
      },
      "outputs": [],
      "source": [
        "@torch.no_grad()\n",
        "def split_loss(split, model):\n",
        "    x, y = {\n",
        "        \"train\": (Xtr, Ytr),\n",
        "        \"valid\": (Xdev, Ydev),\n",
        "        \"test\": (Xte, Yte)\n",
        "    }[split]\n",
        "    logits = model(x)\n",
        "    loss = F.cross_entropy(logits, y)\n",
        "    return loss.item()"
      ]
    },
    {
      "cell_type": "code",
      "execution_count": 5,
      "metadata": {
        "id": "vA-i4sx_iM2T"
      },
      "outputs": [],
      "source": [
        "def sample(model):\n",
        "    # sampling from the model\n",
        "    for _ in range(20):\n",
        "        out = []\n",
        "        context = [0] * block_size\n",
        "        while True:\n",
        "            # Forward pass\n",
        "            logits = model(torch.tensor([context]).to(device))\n",
        "            probs = F.softmax(logits, dim = 1)\n",
        "\n",
        "            ix = torch.multinomial(probs, num_samples = 1).item()\n",
        "\n",
        "            # Shift the Context Window\n",
        "            context = context[1:] + [ix]\n",
        "\n",
        "            if ix == 0:\n",
        "                break\n",
        "\n",
        "            out.append(ix)\n",
        "        \n",
        "        print(\"\".join(itos[i] for i in out))\n",
        "        "
      ]
    },
    {
      "attachments": {},
      "cell_type": "markdown",
      "metadata": {},
      "source": [
        "# E01: using torch.nn Module instead of custom classes\n",
        "\n",
        "- I commented the batchnorm parts since it (surprisingly) made the model worse\n",
        "- the transpose lines before and after the batchnorm since the implementation of custom class `BatchNorm1d` in the original video has the input in format (N, L, C) instead of (N, C, L) as in the torch implementation"
      ]
    },
    {
      "cell_type": "code",
      "execution_count": 6,
      "metadata": {},
      "outputs": [],
      "source": [
        "class FlattenConsecutive(nn.Module):\n",
        "    def __init__(self, n):\n",
        "        super().__init__()  # Initialize parent nn.Module class\n",
        "        self.n = n\n",
        "    \n",
        "    def forward(self, x):\n",
        "        B, T, C = x.shape  # B=batch size, T=sequence length, C=channels\n",
        "        # Reshape while keeping 3D shape even when T//self.n == 1\n",
        "        x = x.contiguous().view(B, T//self.n, C*self.n)\n",
        "        return x\n",
        "    \n",
        "# Create a custom layer for transpose+batchnorm+transpose\n",
        "class BatchNormWithTranspose(nn.Module):\n",
        "    def __init__(self, n_hidden):\n",
        "        super().__init__()\n",
        "        self.bn = nn.BatchNorm1d(n_hidden)\n",
        "        \n",
        "    def forward(self, x):\n",
        "        # (N, L, C) -> (N, C, L)\n",
        "        x = x.transpose(1, 2)\n",
        "        x = self.bn(x)\n",
        "        # (N, C, L) -> (N, L, C)\n",
        "        x = x.transpose(1, 2)\n",
        "        return x"
      ]
    },
    {
      "cell_type": "code",
      "execution_count": 7,
      "metadata": {
        "id": "_juxHbodiObu"
      },
      "outputs": [],
      "source": [
        "class Model(nn.Module):\n",
        "    def __init__(self, vocabulary_size, n_embed, n_hidden):\n",
        "        super(Model, self).__init__()\n",
        "\n",
        "        self.model = nn.Sequential(\n",
        "            # Embedding\n",
        "            nn.Embedding(vocabulary_size, n_embed),\n",
        "            # block 1\n",
        "            FlattenConsecutive(2), \n",
        "            nn.Linear(n_embed * 2, n_hidden, bias=False),\n",
        "            #BatchNormWithTranspose(n_hidden),\n",
        "            nn.Tanh(),\n",
        "            # block 2\n",
        "            FlattenConsecutive(2),\n",
        "            nn.Linear(n_hidden * 2, n_hidden, bias=False),\n",
        "            #BatchNormWithTranspose(n_hidden),\n",
        "            nn.Tanh(),\n",
        "            # block 3\n",
        "            FlattenConsecutive(2),\n",
        "            nn.Linear(n_hidden * 2, n_hidden, bias=False),\n",
        "            #BatchNormWithTranspose(n_hidden),\n",
        "            nn.Tanh(),\n",
        "            # output\n",
        "            nn.Linear(n_hidden, vocabulary_size, bias=False),\n",
        "        )\n",
        "        \n",
        "    def weights_init(self):\n",
        "        if isinstance(self.model, nn.Linear):\n",
        "            nn.init.kaiming_normal_(self.model.weight, mode='fan_in', nonlinearity='tanh')\n",
        "\n",
        "    def forward(self, x):\n",
        "        x = self.model.forward(x)\n",
        "        return x.squeeze(1)\n"
      ]
    },
    {
      "attachments": {},
      "cell_type": "markdown",
      "metadata": {},
      "source": [
        "# Init The Model, weights and Training\n",
        "## E02: beating the 1.993 validation loss"
      ]
    },
    {
      "cell_type": "code",
      "execution_count": 60,
      "metadata": {},
      "outputs": [],
      "source": [
        "n_embed = 32\n",
        "n_hidden = 256\n",
        "\n",
        "model = Model(vocabulary_size, n_embed, n_hidden).to(device)\n",
        "model.weights_init()\n",
        "model(Xtr[:10]);\n"
      ]
    },
    {
      "cell_type": "code",
      "execution_count": 61,
      "metadata": {
        "colab": {
          "base_uri": "https://localhost:8080/"
        },
        "id": "d_aRKJp5A9m3",
        "outputId": "0a456dc0-dcb3-40ac-e28b-f3e0c0f9a36f"
      },
      "outputs": [],
      "source": [
        "def train_model(model, Xtr, Ytr, optimizer, scheduler, batch_size, epochs):\n",
        "    \n",
        "    train_losses = []\n",
        "    dev_losses = []\n",
        "    \n",
        "    for epoch in range(epochs):\n",
        "        model.train()\n",
        "\n",
        "        for i in range(0, len(Xtr), batch_size):\n",
        "            x = Xtr[i:i+batch_size]\n",
        "            y = Ytr[i:i+batch_size]\n",
        "\n",
        "            logits = model(x)\n",
        "            loss = F.cross_entropy(logits, y)\n",
        "\n",
        "            optimizer.zero_grad()\n",
        "            loss.backward()\n",
        "            optimizer.step()\n",
        "\n",
        "        model.eval()\n",
        "        train_loss = split_loss('train', model)\n",
        "        dev_loss = split_loss('valid', model)\n",
        "        train_losses.append(train_loss)\n",
        "        dev_losses.append(dev_loss)\n",
        "\n",
        "        scheduler.step(dev_loss)\n",
        "\n",
        "        print(f\"epoch : {epoch} train_loss : {train_loss} dev_loss : {dev_loss}\")\n",
        "    \n",
        "    return train_losses, dev_losses"
      ]
    },
    {
      "cell_type": "code",
      "execution_count": 62,
      "metadata": {},
      "outputs": [
        {
          "name": "stderr",
          "output_type": "stream",
          "text": [
            "/opt/conda/lib/python3.10/site-packages/torch/optim/lr_scheduler.py:60: UserWarning: The verbose parameter is deprecated. Please use get_last_lr() to access the learning rate.\n",
            "  warnings.warn(\n"
          ]
        },
        {
          "ename": "KeyboardInterrupt",
          "evalue": "",
          "output_type": "error",
          "traceback": [
            "\u001b[0;31m---------------------------------------------------------------------------\u001b[0m",
            "\u001b[0;31mKeyboardInterrupt\u001b[0m                         Traceback (most recent call last)",
            "Cell \u001b[0;32mIn[62], line 6\u001b[0m\n\u001b[1;32m      3\u001b[0m batch_size \u001b[38;5;241m=\u001b[39m \u001b[38;5;241m64\u001b[39m\n\u001b[1;32m      4\u001b[0m epochs \u001b[38;5;241m=\u001b[39m \u001b[38;5;241m100\u001b[39m\n\u001b[0;32m----> 6\u001b[0m train_losses, dev_losses \u001b[38;5;241m=\u001b[39m \u001b[43mtrain_model\u001b[49m\u001b[43m(\u001b[49m\u001b[43mmodel\u001b[49m\u001b[43m,\u001b[49m\u001b[43m \u001b[49m\n\u001b[1;32m      7\u001b[0m \u001b[43m                                       \u001b[49m\u001b[43mXtr\u001b[49m\u001b[43m,\u001b[49m\u001b[43m \u001b[49m\n\u001b[1;32m      8\u001b[0m \u001b[43m                                       \u001b[49m\u001b[43mYtr\u001b[49m\u001b[43m,\u001b[49m\u001b[43m \u001b[49m\n\u001b[1;32m      9\u001b[0m \u001b[43m                                       \u001b[49m\u001b[43moptimizer\u001b[49m\u001b[43m,\u001b[49m\u001b[43m \u001b[49m\n\u001b[1;32m     10\u001b[0m \u001b[43m                                       \u001b[49m\u001b[43mscheduler\u001b[49m\u001b[43m,\u001b[49m\u001b[43m \u001b[49m\n\u001b[1;32m     11\u001b[0m \u001b[43m                                       \u001b[49m\u001b[43mbatch_size\u001b[49m\u001b[43m,\u001b[49m\u001b[43m \u001b[49m\n\u001b[1;32m     12\u001b[0m \u001b[43m                                       \u001b[49m\u001b[43mepochs\u001b[49m\u001b[43m)\u001b[49m\n",
            "Cell \u001b[0;32mIn[61], line 14\u001b[0m, in \u001b[0;36mtrain_model\u001b[0;34m(model, Xtr, Ytr, optimizer, scheduler, batch_size, epochs)\u001b[0m\n\u001b[1;32m     11\u001b[0m y \u001b[38;5;241m=\u001b[39m Ytr[i:i\u001b[38;5;241m+\u001b[39mbatch_size]\n\u001b[1;32m     13\u001b[0m logits \u001b[38;5;241m=\u001b[39m model(x)\n\u001b[0;32m---> 14\u001b[0m loss \u001b[38;5;241m=\u001b[39m \u001b[43mF\u001b[49m\u001b[38;5;241m.\u001b[39mcross_entropy(logits, y)\n\u001b[1;32m     16\u001b[0m optimizer\u001b[38;5;241m.\u001b[39mzero_grad()\n\u001b[1;32m     17\u001b[0m loss\u001b[38;5;241m.\u001b[39mbackward()\n",
            "Cell \u001b[0;32mIn[61], line 14\u001b[0m, in \u001b[0;36mtrain_model\u001b[0;34m(model, Xtr, Ytr, optimizer, scheduler, batch_size, epochs)\u001b[0m\n\u001b[1;32m     11\u001b[0m y \u001b[38;5;241m=\u001b[39m Ytr[i:i\u001b[38;5;241m+\u001b[39mbatch_size]\n\u001b[1;32m     13\u001b[0m logits \u001b[38;5;241m=\u001b[39m model(x)\n\u001b[0;32m---> 14\u001b[0m loss \u001b[38;5;241m=\u001b[39m \u001b[43mF\u001b[49m\u001b[38;5;241m.\u001b[39mcross_entropy(logits, y)\n\u001b[1;32m     16\u001b[0m optimizer\u001b[38;5;241m.\u001b[39mzero_grad()\n\u001b[1;32m     17\u001b[0m loss\u001b[38;5;241m.\u001b[39mbackward()\n",
            "File \u001b[0;32m_pydevd_bundle/pydevd_cython.pyx:1457\u001b[0m, in \u001b[0;36m_pydevd_bundle.pydevd_cython.SafeCallWrapper.__call__\u001b[0;34m()\u001b[0m\n",
            "File \u001b[0;32m_pydevd_bundle/pydevd_cython.pyx:701\u001b[0m, in \u001b[0;36m_pydevd_bundle.pydevd_cython.PyDBFrame.trace_dispatch\u001b[0;34m()\u001b[0m\n",
            "File \u001b[0;32m_pydevd_bundle/pydevd_cython.pyx:1152\u001b[0m, in \u001b[0;36m_pydevd_bundle.pydevd_cython.PyDBFrame.trace_dispatch\u001b[0;34m()\u001b[0m\n",
            "File \u001b[0;32m_pydevd_bundle/pydevd_cython.pyx:1135\u001b[0m, in \u001b[0;36m_pydevd_bundle.pydevd_cython.PyDBFrame.trace_dispatch\u001b[0;34m()\u001b[0m\n",
            "File \u001b[0;32m_pydevd_bundle/pydevd_cython.pyx:312\u001b[0m, in \u001b[0;36m_pydevd_bundle.pydevd_cython.PyDBFrame.do_wait_suspend\u001b[0;34m()\u001b[0m\n",
            "File \u001b[0;32m/opt/conda/lib/python3.10/site-packages/debugpy/_vendored/pydevd/pydevd.py:2070\u001b[0m, in \u001b[0;36mPyDB.do_wait_suspend\u001b[0;34m(self, thread, frame, event, arg, exception_type)\u001b[0m\n\u001b[1;32m   2067\u001b[0m             from_this_thread\u001b[38;5;241m.\u001b[39mappend(frame_custom_thread_id)\n\u001b[1;32m   2069\u001b[0m     \u001b[38;5;28;01mwith\u001b[39;00m \u001b[38;5;28mself\u001b[39m\u001b[38;5;241m.\u001b[39m_threads_suspended_single_notification\u001b[38;5;241m.\u001b[39mnotify_thread_suspended(thread_id, thread, stop_reason):\n\u001b[0;32m-> 2070\u001b[0m         keep_suspended \u001b[38;5;241m=\u001b[39m \u001b[38;5;28;43mself\u001b[39;49m\u001b[38;5;241;43m.\u001b[39;49m\u001b[43m_do_wait_suspend\u001b[49m\u001b[43m(\u001b[49m\u001b[43mthread\u001b[49m\u001b[43m,\u001b[49m\u001b[43m \u001b[49m\u001b[43mframe\u001b[49m\u001b[43m,\u001b[49m\u001b[43m \u001b[49m\u001b[43mevent\u001b[49m\u001b[43m,\u001b[49m\u001b[43m \u001b[49m\u001b[43marg\u001b[49m\u001b[43m,\u001b[49m\u001b[43m \u001b[49m\u001b[43msuspend_type\u001b[49m\u001b[43m,\u001b[49m\u001b[43m \u001b[49m\u001b[43mfrom_this_thread\u001b[49m\u001b[43m,\u001b[49m\u001b[43m \u001b[49m\u001b[43mframes_tracker\u001b[49m\u001b[43m)\u001b[49m\n\u001b[1;32m   2072\u001b[0m frames_list \u001b[38;5;241m=\u001b[39m \u001b[38;5;28;01mNone\u001b[39;00m\n\u001b[1;32m   2074\u001b[0m \u001b[38;5;28;01mif\u001b[39;00m keep_suspended:\n\u001b[1;32m   2075\u001b[0m     \u001b[38;5;66;03m# This means that we should pause again after a set next statement.\u001b[39;00m\n",
            "File \u001b[0;32m/opt/conda/lib/python3.10/site-packages/debugpy/_vendored/pydevd/pydevd.py:2106\u001b[0m, in \u001b[0;36mPyDB._do_wait_suspend\u001b[0;34m(self, thread, frame, event, arg, suspend_type, from_this_thread, frames_tracker)\u001b[0m\n\u001b[1;32m   2103\u001b[0m         \u001b[38;5;28mself\u001b[39m\u001b[38;5;241m.\u001b[39m_call_input_hook()\n\u001b[1;32m   2105\u001b[0m     \u001b[38;5;28mself\u001b[39m\u001b[38;5;241m.\u001b[39mprocess_internal_commands()\n\u001b[0;32m-> 2106\u001b[0m     \u001b[43mtime\u001b[49m\u001b[38;5;241;43m.\u001b[39;49m\u001b[43msleep\u001b[49m\u001b[43m(\u001b[49m\u001b[38;5;241;43m0.01\u001b[39;49m\u001b[43m)\u001b[49m\n\u001b[1;32m   2108\u001b[0m \u001b[38;5;28mself\u001b[39m\u001b[38;5;241m.\u001b[39mcancel_async_evaluation(get_current_thread_id(thread), \u001b[38;5;28mstr\u001b[39m(\u001b[38;5;28mid\u001b[39m(frame)))\n\u001b[1;32m   2110\u001b[0m \u001b[38;5;66;03m# process any stepping instructions\u001b[39;00m\n",
            "\u001b[0;31mKeyboardInterrupt\u001b[0m: "
          ]
        }
      ],
      "source": [
        "optimizer = torch.optim.SGD(model.parameters(), lr=0.01)\n",
        "scheduler = torch.optim.lr_scheduler.ReduceLROnPlateau(optimizer, mode='min', factor=0.5, patience=5, verbose=True)\n",
        "batch_size = 64\n",
        "epochs = 100\n",
        "\n",
        "train_losses, dev_losses = train_model(model, \n",
        "                                       Xtr, \n",
        "                                       Ytr, \n",
        "                                       optimizer, \n",
        "                                       scheduler, \n",
        "                                       batch_size, \n",
        "                                       epochs)"
      ]
    },
    {
      "cell_type": "code",
      "execution_count": 11,
      "metadata": {
        "id": "ynl_vofcAvDf"
      },
      "outputs": [],
      "source": [
        "torch.save(model.state_dict(), \"wave_net_bn_best_pth\")"
      ]
    },
    {
      "cell_type": "code",
      "execution_count": 12,
      "metadata": {
        "colab": {
          "base_uri": "https://localhost:8080/",
          "height": 466
        },
        "id": "Td-jcyFHikIE",
        "outputId": "74643700-c561-4c83-976e-24c48730fad9"
      },
      "outputs": [
        {
          "data": {
            "text/plain": [
              "<matplotlib.legend.Legend at 0x7fff19b29900>"
            ]
          },
          "execution_count": 12,
          "metadata": {},
          "output_type": "execute_result"
        },
        {
          "data": {
            "image/png": "[encoded data removed]",
            "text/plain": [
              "<Figure size 640x480 with 1 Axes>"
            ]
          },
          "metadata": {},
          "output_type": "display_data"
        }
      ],
      "source": [
        "# plot train and dev losses\n",
        "plt.plot(train_losses, label = 'train')\n",
        "plt.plot(dev_losses, label = 'dev')\n",
        "\n",
        "plt.xlabel('epoch')\n",
        "plt.ylabel('loss')\n",
        "\n",
        "plt.legend()"
      ]
    },
    {
      "cell_type": "code",
      "execution_count": 13,
      "metadata": {
        "colab": {
          "base_uri": "https://localhost:8080/"
        },
        "id": "uzDjIkqX6Uev",
        "outputId": "3c870a78-73fc-4ccc-efec-b1beb7227f9c"
      },
      "outputs": [
        {
          "name": "stdout",
          "output_type": "stream",
          "text": [
            "Training Loss: 1.736\n",
            "Validation Loss: 1.977\n",
            "Test Loss: 1.974\n"
          ]
        }
      ],
      "source": [
        "print(f\"Training Loss: {split_loss('train', model):0.3f}\")\n",
        "print(f\"Validation Loss: {split_loss('valid', model):0.3f}\")\n",
        "print(f\"Test Loss: {split_loss('test', model):0.3f}\")"
      ]
    },
    {
      "cell_type": "code",
      "execution_count": 14,
      "metadata": {
        "colab": {
          "base_uri": "https://localhost:8080/"
        },
        "id": "J7TWv5Uqrn-4",
        "outputId": "1a91fe4b-2bb3-4d6d-9091-8f793b7286d8"
      },
      "outputs": [
        {
          "name": "stdout",
          "output_type": "stream",
          "text": [
            "kayfen\n",
            "sky\n",
            "zhad\n",
            "carman\n",
            "graceligi\n",
            "evoluwa\n",
            "adu\n",
            "weslyn\n",
            "kaiken\n",
            "abriona\n",
            "kius\n",
            "gendomya\n",
            "monoka\n",
            "hehar\n",
            "sultan\n",
            "elizerda\n",
            "jatavis\n",
            "zerika\n",
            "mireal\n",
            "mack\n"
          ]
        }
      ],
      "source": [
        "sample(model)"
      ]
    },
    {
      "attachments": {},
      "cell_type": "markdown",
      "metadata": {},
      "source": [
        "# # E03: Using Convolutions"
      ]
    },
    {
      "cell_type": "code",
      "execution_count": 83,
      "metadata": {},
      "outputs": [],
      "source": [
        "class ModelCnn(nn.Module):\n",
        "    def __init__(self, vocabulary_size, n_embed, n_hidden, kernel_size, padding):\n",
        "        super(ModelCnn, self).__init__()\n",
        "        self.kernel_size = kernel_size\n",
        "        self.padding = padding\n",
        "        \n",
        "\n",
        "        self.model = nn.Sequential(\n",
        "            # Embedding\n",
        "            nn.Embedding(vocabulary_size, n_embed),\n",
        "            # Need to transpose for Conv1d which expects (batch, channels, sequence_length)\n",
        "            Lambda(lambda x: x.transpose(1, 2)),\n",
        "            # block 1\n",
        "            nn.Conv1d(n_embed, n_hidden, kernel_size=self.kernel_size, padding=self.padding, stride=2, bias=False),\n",
        "            # nn.BatchNorm1d(n_hidden),\n",
        "            nn.Tanh(),\n",
        "            # block 2\n",
        "            nn.Conv1d(n_hidden, n_hidden, kernel_size=self.kernel_size, padding=self.padding, stride=2, bias=False),\n",
        "            # nn.BatchNorm1d(n_hidden),\n",
        "            nn.Tanh(),\n",
        "            # block 3\n",
        "            nn.Conv1d(n_hidden, n_hidden, kernel_size=self.kernel_size, padding=self.padding, stride=2, bias=False),\n",
        "            # nn.BatchNorm1d(n_hidden),\n",
        "            nn.Tanh(),\n",
        "            # Transpose back for the final linear layer\n",
        "            Lambda(lambda x: x.transpose(1, 2)),\n",
        "            # output\n",
        "            nn.Linear(n_hidden, vocabulary_size, bias=False),\n",
        "        )\n",
        "        \n",
        "    def weights_init(self):\n",
        "        for m in self.model:\n",
        "            if isinstance(m, (nn.Linear, nn.Conv1d)):\n",
        "                nn.init.kaiming_normal_(m.weight, mode='fan_in', nonlinearity='tanh')\n",
        "\n",
        "    def forward(self, x):\n",
        "        x = self.model(x)\n",
        "        return x.squeeze(1)\n",
        "\n",
        "# Helper class for the transpose operations\n",
        "class Lambda(nn.Module):\n",
        "    def __init__(self, func):\n",
        "        super().__init__()\n",
        "        self.func = func\n",
        "\n",
        "    def forward(self, x):\n",
        "        return self.func(x)"
      ]
    },
    {
      "cell_type": "code",
      "execution_count": 95,
      "metadata": {},
      "outputs": [],
      "source": [
        "n_embed = 25\n",
        "n_hidden = 80\n",
        "kernel_size = 4\n",
        "padding = 1\n",
        "\n",
        "model = ModelCnn(\n",
        "    vocabulary_size= vocabulary_size,\n",
        "    n_embed= n_embed,\n",
        "    n_hidden= n_hidden,\n",
        "    kernel_size= kernel_size,\n",
        "    padding= padding).to(device)\n",
        "model(Xtr[:10]);\n",
        "train_losses = []\n",
        "dev_losses = []"
      ]
    },
    {
      "cell_type": "code",
      "execution_count": 96,
      "metadata": {},
      "outputs": [
        {
          "name": "stdout",
          "output_type": "stream",
          "text": [
            "epoch : 0 train_loss : 2.2382874488830566 dev_loss : 2.2438645362854004\n",
            "epoch : 1 train_loss : 2.1611814498901367 dev_loss : 2.175023078918457\n",
            "epoch : 2 train_loss : 2.1168196201324463 dev_loss : 2.1397719383239746\n",
            "epoch : 3 train_loss : 2.080719470977783 dev_loss : 2.1140005588531494\n",
            "epoch : 4 train_loss : 2.050166130065918 dev_loss : 2.09423565864563\n",
            "epoch : 5 train_loss : 2.024712085723877 dev_loss : 2.0799951553344727\n",
            "epoch : 6 train_loss : 2.002793073654175 dev_loss : 2.0696804523468018\n",
            "epoch : 7 train_loss : 1.9832719564437866 dev_loss : 2.061828374862671\n",
            "epoch : 8 train_loss : 1.9664230346679688 dev_loss : 2.0565590858459473\n",
            "epoch : 9 train_loss : 1.9520595073699951 dev_loss : 2.05342698097229\n",
            "epoch : 10 train_loss : 1.9396920204162598 dev_loss : 2.0518386363983154\n",
            "epoch : 11 train_loss : 1.9290695190429688 dev_loss : 2.0514941215515137\n",
            "epoch : 12 train_loss : 1.9199954271316528 dev_loss : 2.0523362159729004\n",
            "epoch : 13 train_loss : 1.912133812904358 dev_loss : 2.0543346405029297\n",
            "epoch : 14 train_loss : 1.9052659273147583 dev_loss : 2.057237386703491\n",
            "epoch : 15 train_loss : 1.899373173713684 dev_loss : 2.0607728958129883\n",
            "epoch : 16 train_loss : 1.894447684288025 dev_loss : 2.064629316329956\n",
            "epoch : 17 train_loss : 1.8902560472488403 dev_loss : 2.0684216022491455\n",
            "epoch : 18 train_loss : 1.8511204719543457 dev_loss : 2.046224355697632\n",
            "epoch : 19 train_loss : 1.8461546897888184 dev_loss : 2.048860788345337\n",
            "epoch : 20 train_loss : 1.8423340320587158 dev_loss : 2.0514628887176514\n",
            "epoch : 21 train_loss : 1.8389842510223389 dev_loss : 2.053980827331543\n",
            "epoch : 22 train_loss : 1.8359311819076538 dev_loss : 2.05643367767334\n",
            "epoch : 23 train_loss : 1.8330814838409424 dev_loss : 2.058846950531006\n",
            "epoch : 24 train_loss : 1.8303998708724976 dev_loss : 2.061241388320923\n",
            "epoch : 25 train_loss : 1.8042775392532349 dev_loss : 2.0471761226654053\n",
            "epoch : 26 train_loss : 1.8009692430496216 dev_loss : 2.0490031242370605\n",
            "epoch : 27 train_loss : 1.7984133958816528 dev_loss : 2.0508949756622314\n",
            "epoch : 28 train_loss : 1.796119213104248 dev_loss : 2.0527307987213135\n",
            "epoch : 29 train_loss : 1.793967366218567 dev_loss : 2.054506778717041\n",
            "epoch : 30 train_loss : 1.7919267416000366 dev_loss : 2.056248664855957\n",
            "epoch : 31 train_loss : 1.776343584060669 dev_loss : 2.047118663787842\n",
            "epoch : 32 train_loss : 1.7742794752120972 dev_loss : 2.0481228828430176\n",
            "epoch : 33 train_loss : 1.7726715803146362 dev_loss : 2.04925274848938\n",
            "epoch : 34 train_loss : 1.771213173866272 dev_loss : 2.0503785610198975\n",
            "epoch : 35 train_loss : 1.7698458433151245 dev_loss : 2.0514795780181885\n",
            "epoch : 36 train_loss : 1.7685341835021973 dev_loss : 2.052558422088623\n",
            "epoch : 37 train_loss : 1.7610927820205688 dev_loss : 2.047492504119873\n",
            "epoch : 38 train_loss : 1.7599496841430664 dev_loss : 2.047988176345825\n",
            "epoch : 39 train_loss : 1.759057879447937 dev_loss : 2.048598527908325\n",
            "epoch : 40 train_loss : 1.7582452297210693 dev_loss : 2.049225330352783\n",
            "epoch : 41 train_loss : 1.7574710845947266 dev_loss : 2.0498499870300293\n",
            "epoch : 42 train_loss : 1.7567232847213745 dev_loss : 2.0504701137542725\n",
            "epoch : 43 train_loss : 1.753626823425293 dev_loss : 2.048184633255005\n",
            "epoch : 44 train_loss : 1.7530157566070557 dev_loss : 2.0484132766723633\n",
            "epoch : 45 train_loss : 1.7525372505187988 dev_loss : 2.048731803894043\n",
            "epoch : 46 train_loss : 1.7521051168441772 dev_loss : 2.049065351486206\n",
            "epoch : 47 train_loss : 1.751686692237854 dev_loss : 2.0494000911712646\n",
            "epoch : 48 train_loss : 1.751281499862671 dev_loss : 2.049736738204956\n",
            "epoch : 49 train_loss : 1.7500659227371216 dev_loss : 2.048919677734375\n",
            "epoch : 50 train_loss : 1.7497496604919434 dev_loss : 2.0490355491638184\n",
            "epoch : 51 train_loss : 1.7495039701461792 dev_loss : 2.049198627471924\n",
            "epoch : 52 train_loss : 1.7492769956588745 dev_loss : 2.0493736267089844\n",
            "epoch : 53 train_loss : 1.7490631341934204 dev_loss : 2.049551010131836\n",
            "epoch : 54 train_loss : 1.748854398727417 dev_loss : 2.0497283935546875\n",
            "epoch : 55 train_loss : 1.7483949661254883 dev_loss : 2.0495123863220215\n",
            "epoch : 56 train_loss : 1.7482366561889648 dev_loss : 2.0495810508728027\n",
            "epoch : 57 train_loss : 1.7481151819229126 dev_loss : 2.049669027328491\n",
            "epoch : 58 train_loss : 1.747992992401123 dev_loss : 2.049762010574341\n",
            "epoch : 59 train_loss : 1.747885823249817 dev_loss : 2.049853801727295\n",
            "epoch : 60 train_loss : 1.747775673866272 dev_loss : 2.0499463081359863\n",
            "epoch : 61 train_loss : 1.747607946395874 dev_loss : 2.0499227046966553\n",
            "epoch : 62 train_loss : 1.7475311756134033 dev_loss : 2.0499627590179443\n",
            "epoch : 63 train_loss : 1.7474699020385742 dev_loss : 2.050010919570923\n",
            "epoch : 64 train_loss : 1.747411847114563 dev_loss : 2.050060272216797\n",
            "epoch : 65 train_loss : 1.7473548650741577 dev_loss : 2.050111770629883\n",
            "epoch : 66 train_loss : 1.7472974061965942 dev_loss : 2.0501601696014404\n",
            "epoch : 67 train_loss : 1.7472460269927979 dev_loss : 2.0501797199249268\n",
            "epoch : 68 train_loss : 1.7472038269042969 dev_loss : 2.050205707550049\n",
            "epoch : 69 train_loss : 1.7471699714660645 dev_loss : 2.050232172012329\n",
            "epoch : 70 train_loss : 1.7471414804458618 dev_loss : 2.0502588748931885\n",
            "epoch : 71 train_loss : 1.7471129894256592 dev_loss : 2.0502851009368896\n",
            "epoch : 72 train_loss : 1.7470860481262207 dev_loss : 2.0503108501434326\n",
            "epoch : 73 train_loss : 1.7470643520355225 dev_loss : 2.0503287315368652\n",
            "epoch : 74 train_loss : 1.7470520734786987 dev_loss : 2.0503439903259277\n",
            "epoch : 75 train_loss : 1.7470383644104004 dev_loss : 2.050359010696411\n",
            "epoch : 76 train_loss : 1.747022271156311 dev_loss : 2.0503742694854736\n",
            "epoch : 77 train_loss : 1.7470066547393799 dev_loss : 2.050389051437378\n",
            "epoch : 78 train_loss : 1.7469896078109741 dev_loss : 2.0504021644592285\n",
            "epoch : 79 train_loss : 1.7469842433929443 dev_loss : 2.050410270690918\n",
            "epoch : 80 train_loss : 1.7469803094863892 dev_loss : 2.0504181385040283\n",
            "epoch : 81 train_loss : 1.7469673156738281 dev_loss : 2.0504276752471924\n",
            "epoch : 82 train_loss : 1.746964454650879 dev_loss : 2.0504345893859863\n",
            "epoch : 83 train_loss : 1.7469563484191895 dev_loss : 2.0504419803619385\n",
            "epoch : 84 train_loss : 1.7469508647918701 dev_loss : 2.0504496097564697\n",
            "epoch : 85 train_loss : 1.7469491958618164 dev_loss : 2.0504531860351562\n",
            "epoch : 86 train_loss : 1.7469408512115479 dev_loss : 2.050457715988159\n",
            "epoch : 87 train_loss : 1.746935486793518 dev_loss : 2.050461769104004\n",
            "epoch : 88 train_loss : 1.7469300031661987 dev_loss : 2.050466299057007\n",
            "epoch : 89 train_loss : 1.746928095817566 dev_loss : 2.050469160079956\n",
            "epoch : 90 train_loss : 1.7469220161437988 dev_loss : 2.050474166870117\n",
            "epoch : 91 train_loss : 1.7469205856323242 dev_loss : 2.0504753589630127\n",
            "epoch : 92 train_loss : 1.7469196319580078 dev_loss : 2.050478219985962\n",
            "epoch : 93 train_loss : 1.7469171285629272 dev_loss : 2.050480365753174\n",
            "epoch : 94 train_loss : 1.7469158172607422 dev_loss : 2.0504822731018066\n",
            "epoch : 95 train_loss : 1.7469156980514526 dev_loss : 2.050483465194702\n",
            "epoch : 96 train_loss : 1.7469159364700317 dev_loss : 2.050485849380493\n",
            "epoch : 97 train_loss : 1.7469146251678467 dev_loss : 2.0504863262176514\n",
            "epoch : 98 train_loss : 1.7469134330749512 dev_loss : 2.050488233566284\n",
            "epoch : 99 train_loss : 1.746911883354187 dev_loss : 2.0504891872406006\n"
          ]
        }
      ],
      "source": [
        "optimizer = torch.optim.SGD(model.parameters(), lr=0.1)\n",
        "scheduler = torch.optim.lr_scheduler.ReduceLROnPlateau(optimizer, mode='min', factor=0.5, patience=5, verbose=True)\n",
        "batch_size = 64\n",
        "epochs = 100\n",
        "\n",
        "train_losses, dev_losses = train_model(model, \n",
        "                                       Xtr, \n",
        "                                       Ytr, \n",
        "                                       optimizer, \n",
        "                                       scheduler, \n",
        "                                       batch_size, \n",
        "                                       epochs)"
      ]
    },
    {
      "cell_type": "code",
      "execution_count": 97,
      "metadata": {},
      "outputs": [
        {
          "data": {
            "text/plain": [
              "<matplotlib.legend.Legend at 0x7ffe0c944400>"
            ]
          },
          "execution_count": 97,
          "metadata": {},
          "output_type": "execute_result"
        },
        {
          "data": {
            "image/png": "[encoded data removed]",
            "text/plain": [
              "<Figure size 640x480 with 1 Axes>"
            ]
          },
          "metadata": {},
          "output_type": "display_data"
        }
      ],
      "source": [
        "# plot train and dev losses\n",
        "plt.plot(train_losses, label = 'train')\n",
        "plt.plot(dev_losses, label = 'dev')\n",
        "\n",
        "plt.xlabel('epoch')\n",
        "plt.ylabel('loss')\n",
        "\n",
        "plt.legend()"
      ]
    },
    {
      "cell_type": "code",
      "execution_count": 98,
      "metadata": {},
      "outputs": [
        {
          "name": "stdout",
          "output_type": "stream",
          "text": [
            "Training Loss: 1.747\n",
            "Validation Loss: 2.050\n",
            "Test Loss: 2.048\n"
          ]
        }
      ],
      "source": [
        "print(f\"Training Loss: {split_loss('train', model):0.3f}\")\n",
        "print(f\"Validation Loss: {split_loss('valid', model):0.3f}\")\n",
        "print(f\"Test Loss: {split_loss('test', model):0.3f}\")"
      ]
    },
    {
      "cell_type": "code",
      "execution_count": 99,
      "metadata": {},
      "outputs": [
        {
          "name": "stdout",
          "output_type": "stream",
          "text": [
            "rony\n",
            "stellarr\n",
            "tallia\n",
            "davani\n",
            "abdian\n",
            "kazya\n",
            "jose\n",
            "vian\n",
            "khalani\n",
            "bernadins\n",
            "loukbi\n",
            "leylania\n",
            "khilo\n",
            "hali\n",
            "oziya\n",
            "caislyn\n",
            "sibak\n",
            "coltan\n",
            "austavar\n",
            "jaannan\n"
          ]
        }
      ],
      "source": [
        "sample(model)"
      ]
    }
  ],
  "metadata": {
    "accelerator": "GPU",
    "colab": {
      "gpuType": "T4",
      "provenance": []
    },
    "kernelspec": {
      "display_name": "Python (micromamba)",
      "language": "python",
      "name": "base"
    },
    "language_info": {
      "codemirror_mode": {
        "name": "ipython",
        "version": 3
      },
      "file_extension": ".py",
      "mimetype": "text/x-python",
      "name": "python",
      "nbconvert_exporter": "python",
      "pygments_lexer": "ipython3",
      "version": "3.10.14"
    }
  },
  "nbformat": 4,
  "nbformat_minor": 0
}
