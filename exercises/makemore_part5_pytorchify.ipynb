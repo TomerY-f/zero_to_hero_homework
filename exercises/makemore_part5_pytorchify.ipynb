{
  "cells": [
    {
      "cell_type": "code",
      "execution_count": 1,
      "metadata": {},
      "outputs": [
        {
          "name": "stdout",
          "output_type": "stream",
          "text": [
            "Working dir: /worxpace/workspace/zero-to-hero/zero_to_hero_homework/zero_to_hero_homework/exercises\n",
            "\n",
            "Dataset cherry picking: ['emma', 'olivia', 'ava', 'isabella', 'sophia', 'charlotte', 'mia', 'amelia']\n",
            "Dataset size: 32033\n"
          ]
        }
      ],
      "source": [
        "import torch\n",
        "import torch.nn as nn\n",
        "import torch.nn.functional as F\n",
        "import os\n",
        "import random\n",
        "import matplotlib.pyplot as plt \n",
        "%matplotlib inline\n",
        "\n",
        "\n",
        "device = torch.device(\"cuda:0\" if torch.cuda.is_available() else \"cpu\")\n",
        "\n",
        "#Reading Names Dataset\n",
        "print(f\"Working dir: {os.getcwd()}\")\n",
        "dataset_path = os.path.join(os.getcwd(), \"../makemore/names.txt\")\n",
        "words = open(dataset_path, 'r').read().splitlines()\n",
        "\n",
        "print(f\"\\nDataset cherry picking: {words[:8]}\")\n",
        "print(f\"Dataset size: {len(words)}\")"
      ]
    },
    {
      "attachments": {},
      "cell_type": "markdown",
      "metadata": {},
      "source": [
        "# Starter Code"
      ]
    },
    {
      "cell_type": "code",
      "execution_count": 2,
      "metadata": {},
      "outputs": [
        {
          "name": "stdout",
          "output_type": "stream",
          "text": [
            "Mapping index to string: {1: 'a', 2: 'b', 3: 'c', 4: 'd', 5: 'e', 6: 'f', 7: 'g', 8: 'h', 9: 'i', 10: 'j', 11: 'k', 12: 'l', 13: 'm', 14: 'n', 15: 'o', 16: 'p', 17: 'q', 18: 'r', 19: 's', 20: 't', 21: 'u', 22: 'v', 23: 'w', 24: 'x', 25: 'y', 26: 'z', 0: '.'}\n",
            "Mapping size: 27\n"
          ]
        }
      ],
      "source": [
        "# build the vocabulary of characters and mappings to/from integers\n",
        "chars = sorted(list(set(''.join(words))))\n",
        "stoi = {s:i+1 for i,s in enumerate(chars)}\n",
        "stoi['.'] = 0\n",
        "itos = {i:s for s,i in stoi.items()}\n",
        "print(f\"Mapping index to string: {itos}\")\n",
        "vocabulary_size = len(itos)\n",
        "print(f\"Mapping size: {vocabulary_size}\")\n"
      ]
    },
    {
      "cell_type": "code",
      "execution_count": 3,
      "metadata": {},
      "outputs": [
        {
          "name": "stdout",
          "output_type": "stream",
          "text": [
            "Train:\n",
            "Features: torch.Size([182625, 8]), torch.int64\n",
            "Labels: torch.Size([182625]), torch.int64\n",
            "Dev:\n",
            "Features: torch.Size([22655, 8]), torch.int64\n",
            "Labels: torch.Size([22655]), torch.int64\n",
            "Test:\n",
            "Features: torch.Size([22866, 8]), torch.int64\n",
            "Labels: torch.Size([22866]), torch.int64\n"
          ]
        }
      ],
      "source": [
        "SEED = 42\n",
        "\n",
        "block_size = 8 \n",
        "dev_index = 0.8 #80% Training.\n",
        "test_index = 0.9 #10% dev, 10% test.\n",
        "\n",
        "# build the datasetc\n",
        "def build_dataset(dataset = list, block_size = int):\n",
        "  # block_size: context length, how many characters do we take to predict the next one?\n",
        "  # returns: X as input features in size of contect length, Y as the labels.\n",
        "  \n",
        "  X, Y = [], []\n",
        "  for w in dataset:\n",
        "    \n",
        "    #print(w)\n",
        "    context = [0] * block_size\n",
        "    for ch in w + '.':\n",
        "      ix = stoi[ch]\n",
        "      X.append(context)\n",
        "      Y.append(ix)\n",
        "      #print(''.join(itos[i] for i in context), '--->', itos[ix])\n",
        "      context = context[1:] + [ix] # crop and append\n",
        "    \n",
        "  X = torch.tensor(X).to(device)\n",
        "  Y = torch.tensor(Y).to(device)\n",
        "  print(f\"Features: {X.shape}, {X.dtype}\\nLabels: {Y.shape}, {Y.dtype}\")\n",
        "  return X, Y\n",
        "  \n",
        "\n",
        "# Split the dataset to train ; dev/validation ; test\n",
        "random.seed(SEED) # Set seed for reproducibility\n",
        "random.shuffle(words)\n",
        "\n",
        "\n",
        "dev_dataset_index = int(dev_index*len(words))\n",
        "test_dataset_index = int(test_index*len(words))\n",
        "\n",
        "print(\"Train:\")\n",
        "Xtr, Ytr = build_dataset(words[:dev_dataset_index], block_size=block_size)\n",
        "print(\"Dev:\")\n",
        "Xdev, Ydev = build_dataset(words[dev_dataset_index:test_dataset_index], block_size=block_size)\n",
        "print(\"Test:\")\n",
        "Xte, Yte = build_dataset(words[test_dataset_index:], block_size=block_size)"
      ]
    },
    {
      "cell_type": "code",
      "execution_count": 4,
      "metadata": {
        "id": "CloXMPL2iL6n"
      },
      "outputs": [],
      "source": [
        "@torch.no_grad()\n",
        "def split_loss(split, model):\n",
        "    x, y = {\n",
        "        \"train\": (Xtr, Ytr),\n",
        "        \"valid\": (Xdev, Ydev),\n",
        "        \"test\": (Xte, Yte)\n",
        "    }[split]\n",
        "    logits = model(x)\n",
        "    loss = F.cross_entropy(logits, y)\n",
        "    return loss.item()"
      ]
    },
    {
      "cell_type": "code",
      "execution_count": 5,
      "metadata": {
        "id": "vA-i4sx_iM2T"
      },
      "outputs": [],
      "source": [
        "def sample(model):\n",
        "    # sampling from the model\n",
        "    for _ in range(20):\n",
        "        out = []\n",
        "        context = [0] * block_size\n",
        "        while True:\n",
        "            # Forward pass\n",
        "            logits = model(torch.tensor([context]).to(device))\n",
        "            probs = F.softmax(logits, dim = 1)\n",
        "\n",
        "            ix = torch.multinomial(probs, num_samples = 1).item()\n",
        "\n",
        "            # Shift the Context Window\n",
        "            context = context[1:] + [ix]\n",
        "\n",
        "            if ix == 0:\n",
        "                break\n",
        "\n",
        "            out.append(ix)\n",
        "        \n",
        "        print(\"\".join(itos[i] for i in out))\n",
        "        "
      ]
    },
    {
      "attachments": {},
      "cell_type": "markdown",
      "metadata": {},
      "source": [
        "# E01: using torch.nn Module instead of custom classes\n",
        "\n",
        "- I commented the batchnorm parts since it (surprisingly) made the model worse\n",
        "- the transpose lines before and after the batchnorm since the implementation of custom class `BatchNorm1d` in the original video has the input in format (N, L, C) instead of (N, C, L) as in the torch implementation"
      ]
    },
    {
      "cell_type": "code",
      "execution_count": 6,
      "metadata": {},
      "outputs": [],
      "source": [
        "class FlattenConsecutive(nn.Module):\n",
        "    def __init__(self, n):\n",
        "        super().__init__()  # Initialize parent nn.Module class\n",
        "        self.n = n\n",
        "    \n",
        "    def forward(self, x):\n",
        "        B, T, C = x.shape  # B=batch size, T=sequence length, C=channels\n",
        "        # Reshape while keeping 3D shape even when T//self.n == 1\n",
        "        x = x.contiguous().view(B, T//self.n, C*self.n)\n",
        "        return x\n",
        "    \n",
        "# Create a custom layer for transpose+batchnorm+transpose\n",
        "class BatchNormWithTranspose(nn.Module):\n",
        "    def __init__(self, n_hidden):\n",
        "        super().__init__()\n",
        "        self.bn = nn.BatchNorm1d(n_hidden)\n",
        "        \n",
        "    def forward(self, x):\n",
        "        # (N, L, C) -> (N, C, L)\n",
        "        x = x.transpose(1, 2)\n",
        "        x = self.bn(x)\n",
        "        # (N, C, L) -> (N, L, C)\n",
        "        x = x.transpose(1, 2)\n",
        "        return x"
      ]
    },
    {
      "cell_type": "code",
      "execution_count": 7,
      "metadata": {
        "id": "_juxHbodiObu"
      },
      "outputs": [],
      "source": [
        "class Model(nn.Module):\n",
        "    def __init__(self, vocabulary_size, n_embed, n_hidden):\n",
        "        super(Model, self).__init__()\n",
        "\n",
        "        self.model = nn.Sequential(\n",
        "            # Embedding\n",
        "            nn.Embedding(vocabulary_size, n_embed),\n",
        "            # block 1\n",
        "            FlattenConsecutive(2), \n",
        "            nn.Linear(n_embed * 2, n_hidden, bias=False),\n",
        "            #BatchNormWithTranspose(n_hidden),\n",
        "            nn.Tanh(),\n",
        "            # block 2\n",
        "            FlattenConsecutive(2),\n",
        "            nn.Linear(n_hidden * 2, n_hidden, bias=False),\n",
        "            #BatchNormWithTranspose(n_hidden),\n",
        "            nn.Tanh(),\n",
        "            # block 3\n",
        "            FlattenConsecutive(2),\n",
        "            nn.Linear(n_hidden * 2, n_hidden, bias=False),\n",
        "            #BatchNormWithTranspose(n_hidden),\n",
        "            nn.Tanh(),\n",
        "            # output\n",
        "            nn.Linear(n_hidden, vocabulary_size, bias=False),\n",
        "        )\n",
        "        \n",
        "    def weights_init(self):\n",
        "        if isinstance(self.model, nn.Linear):\n",
        "            nn.init.kaiming_normal_(self.model.weight, mode='fan_in', nonlinearity='tanh')\n",
        "\n",
        "    def forward(self, x):\n",
        "        x = self.model.forward(x)\n",
        "        return x.squeeze(1)\n"
      ]
    },
    {
      "attachments": {},
      "cell_type": "markdown",
      "metadata": {},
      "source": [
        "# Init The Model, weights and Training\n",
        "## E02: beating the 1.993 validation loss"
      ]
    },
    {
      "cell_type": "code",
      "execution_count": 8,
      "metadata": {},
      "outputs": [],
      "source": [
        "n_embed = 32\n",
        "n_hidden = 256\n",
        "\n",
        "model = Model(vocabulary_size, n_embed, n_hidden).to(device)\n",
        "model.weights_init()\n",
        "model(Xtr[:10]);\n"
      ]
    },
    {
      "cell_type": "code",
      "execution_count": 9,
      "metadata": {
        "colab": {
          "base_uri": "https://localhost:8080/"
        },
        "id": "d_aRKJp5A9m3",
        "outputId": "0a456dc0-dcb3-40ac-e28b-f3e0c0f9a36f"
      },
      "outputs": [],
      "source": [
        "def train_model(model, Xtr, Ytr, optimizer, scheduler, batch_size, epochs):\n",
        "    \n",
        "    train_losses = []\n",
        "    dev_losses = []\n",
        "    \n",
        "    for epoch in range(epochs):\n",
        "        model.train()\n",
        "\n",
        "        for i in range(0, len(Xtr), batch_size):\n",
        "            x = Xtr[i:i+batch_size]\n",
        "            y = Ytr[i:i+batch_size]\n",
        "\n",
        "            logits = model(x)\n",
        "            loss = F.cross_entropy(logits, y)\n",
        "\n",
        "            optimizer.zero_grad()\n",
        "            loss.backward()\n",
        "            optimizer.step()\n",
        "\n",
        "        model.eval()\n",
        "        train_loss = split_loss('train', model)\n",
        "        dev_loss = split_loss('valid', model)\n",
        "        train_losses.append(train_loss)\n",
        "        dev_losses.append(dev_loss)\n",
        "\n",
        "        scheduler.step(dev_loss)\n",
        "\n",
        "        print(f\"epoch : {epoch} train_loss : {train_loss} dev_loss : {dev_loss}\")\n",
        "    \n",
        "    return train_losses, dev_losses"
      ]
    },
    {
      "cell_type": "code",
      "execution_count": 10,
      "metadata": {},
      "outputs": [
        {
          "name": "stderr",
          "output_type": "stream",
          "text": [
            "/opt/conda/lib/python3.10/site-packages/torch/optim/lr_scheduler.py:60: UserWarning: The verbose parameter is deprecated. Please use get_last_lr() to access the learning rate.\n",
            "  warnings.warn(\n"
          ]
        },
        {
          "name": "stdout",
          "output_type": "stream",
          "text": [
            "epoch : 0 train_loss : 2.3576691150665283 dev_loss : 2.352219581604004\n",
            "epoch : 1 train_loss : 2.280768871307373 dev_loss : 2.277428150177002\n",
            "epoch : 2 train_loss : 2.2409799098968506 dev_loss : 2.241039276123047\n",
            "epoch : 3 train_loss : 2.214198589324951 dev_loss : 2.2173268795013428\n",
            "epoch : 4 train_loss : 2.193133592605591 dev_loss : 2.198796272277832\n",
            "epoch : 5 train_loss : 2.175236225128174 dev_loss : 2.1831560134887695\n",
            "epoch : 6 train_loss : 2.1594409942626953 dev_loss : 2.169539213180542\n",
            "epoch : 7 train_loss : 2.145167112350464 dev_loss : 2.1574368476867676\n",
            "epoch : 8 train_loss : 2.132077932357788 dev_loss : 2.146493911743164\n",
            "epoch : 9 train_loss : 2.1199448108673096 dev_loss : 2.1364879608154297\n",
            "epoch : 10 train_loss : 2.108607292175293 dev_loss : 2.127281665802002\n",
            "epoch : 11 train_loss : 2.0979416370391846 dev_loss : 2.1187713146209717\n",
            "epoch : 12 train_loss : 2.0878422260284424 dev_loss : 2.11086368560791\n",
            "epoch : 13 train_loss : 2.078192949295044 dev_loss : 2.1034812927246094\n",
            "epoch : 14 train_loss : 2.06893253326416 dev_loss : 2.0965521335601807\n",
            "epoch : 15 train_loss : 2.0600006580352783 dev_loss : 2.0900208950042725\n",
            "epoch : 16 train_loss : 2.0513625144958496 dev_loss : 2.0838429927825928\n",
            "epoch : 17 train_loss : 2.042980670928955 dev_loss : 2.077990770339966\n",
            "epoch : 18 train_loss : 2.034839391708374 dev_loss : 2.0724430084228516\n",
            "epoch : 19 train_loss : 2.026923418045044 dev_loss : 2.0671842098236084\n",
            "epoch : 20 train_loss : 2.0192208290100098 dev_loss : 2.0621988773345947\n",
            "epoch : 21 train_loss : 2.0117013454437256 dev_loss : 2.0574753284454346\n",
            "epoch : 22 train_loss : 2.004369020462036 dev_loss : 2.052997350692749\n",
            "epoch : 23 train_loss : 1.9971983432769775 dev_loss : 2.0487470626831055\n",
            "epoch : 24 train_loss : 1.9901729822158813 dev_loss : 2.044712543487549\n",
            "epoch : 25 train_loss : 1.9832992553710938 dev_loss : 2.0408778190612793\n",
            "epoch : 26 train_loss : 1.9765551090240479 dev_loss : 2.0372314453125\n",
            "epoch : 27 train_loss : 1.9699331521987915 dev_loss : 2.0337629318237305\n",
            "epoch : 28 train_loss : 1.9634329080581665 dev_loss : 2.0304617881774902\n",
            "epoch : 29 train_loss : 1.9570538997650146 dev_loss : 2.027322292327881\n",
            "epoch : 30 train_loss : 1.9507941007614136 dev_loss : 2.0243358612060547\n",
            "epoch : 31 train_loss : 1.9446290731430054 dev_loss : 2.021498441696167\n",
            "epoch : 32 train_loss : 1.9385818243026733 dev_loss : 2.018805742263794\n",
            "epoch : 33 train_loss : 1.9326410293579102 dev_loss : 2.0162532329559326\n",
            "epoch : 34 train_loss : 1.9267915487289429 dev_loss : 2.013838529586792\n",
            "epoch : 35 train_loss : 1.9210439920425415 dev_loss : 2.0115582942962646\n",
            "epoch : 36 train_loss : 1.915390133857727 dev_loss : 2.0094099044799805\n",
            "epoch : 37 train_loss : 1.9098262786865234 dev_loss : 2.007389783859253\n",
            "epoch : 38 train_loss : 1.9043478965759277 dev_loss : 2.0054941177368164\n",
            "epoch : 39 train_loss : 1.8989553451538086 dev_loss : 2.0037198066711426\n",
            "epoch : 40 train_loss : 1.893649935722351 dev_loss : 2.0020651817321777\n",
            "epoch : 41 train_loss : 1.888427972793579 dev_loss : 2.000528335571289\n",
            "epoch : 42 train_loss : 1.8832885026931763 dev_loss : 1.999108910560608\n",
            "epoch : 43 train_loss : 1.878232717514038 dev_loss : 1.997802495956421\n",
            "epoch : 44 train_loss : 1.8732469081878662 dev_loss : 1.996612787246704\n",
            "epoch : 45 train_loss : 1.868348240852356 dev_loss : 1.995534896850586\n",
            "epoch : 46 train_loss : 1.8635162115097046 dev_loss : 1.9945708513259888\n",
            "epoch : 47 train_loss : 1.8587684631347656 dev_loss : 1.9937160015106201\n",
            "epoch : 48 train_loss : 1.854090690612793 dev_loss : 1.992972493171692\n",
            "epoch : 49 train_loss : 1.849483609199524 dev_loss : 1.9923347234725952\n",
            "epoch : 50 train_loss : 1.8449440002441406 dev_loss : 1.9918005466461182\n",
            "epoch : 51 train_loss : 1.8404693603515625 dev_loss : 1.9913674592971802\n",
            "epoch : 52 train_loss : 1.8360635042190552 dev_loss : 1.9910296201705933\n",
            "epoch : 53 train_loss : 1.8317170143127441 dev_loss : 1.9907827377319336\n",
            "epoch : 54 train_loss : 1.8274368047714233 dev_loss : 1.9906232357025146\n",
            "epoch : 55 train_loss : 1.8232080936431885 dev_loss : 1.9905444383621216\n",
            "epoch : 56 train_loss : 1.8190357685089111 dev_loss : 1.990541696548462\n",
            "epoch : 57 train_loss : 1.8149192333221436 dev_loss : 1.9906108379364014\n",
            "epoch : 58 train_loss : 1.810849905014038 dev_loss : 1.9907479286193848\n",
            "epoch : 59 train_loss : 1.8068327903747559 dev_loss : 1.9909511804580688\n",
            "epoch : 60 train_loss : 1.802860140800476 dev_loss : 1.9912140369415283\n",
            "epoch : 61 train_loss : 1.7989422082901 dev_loss : 1.9915348291397095\n",
            "epoch : 62 train_loss : 1.784798264503479 dev_loss : 1.9813852310180664\n",
            "epoch : 63 train_loss : 1.7823066711425781 dev_loss : 1.981760859489441\n",
            "epoch : 64 train_loss : 1.7800450325012207 dev_loss : 1.9822112321853638\n",
            "epoch : 65 train_loss : 1.7778596878051758 dev_loss : 1.9826676845550537\n",
            "epoch : 66 train_loss : 1.775726079940796 dev_loss : 1.98312246799469\n",
            "epoch : 67 train_loss : 1.7736107110977173 dev_loss : 1.9835765361785889\n",
            "epoch : 68 train_loss : 1.7715330123901367 dev_loss : 1.9840315580368042\n",
            "epoch : 69 train_loss : 1.7642340660095215 dev_loss : 1.9787440299987793\n",
            "epoch : 70 train_loss : 1.7629176378250122 dev_loss : 1.9789655208587646\n",
            "epoch : 71 train_loss : 1.7617331743240356 dev_loss : 1.9792566299438477\n",
            "epoch : 72 train_loss : 1.760587453842163 dev_loss : 1.9795540571212769\n",
            "epoch : 73 train_loss : 1.7594588994979858 dev_loss : 1.979849934577942\n",
            "epoch : 74 train_loss : 1.7583465576171875 dev_loss : 1.9801462888717651\n",
            "epoch : 75 train_loss : 1.7572458982467651 dev_loss : 1.9804390668869019\n",
            "epoch : 76 train_loss : 1.753817081451416 dev_loss : 1.9781510829925537\n",
            "epoch : 77 train_loss : 1.7531286478042603 dev_loss : 1.9782671928405762\n",
            "epoch : 78 train_loss : 1.7525197267532349 dev_loss : 1.9784281253814697\n",
            "epoch : 79 train_loss : 1.7519257068634033 dev_loss : 1.97859525680542\n",
            "epoch : 80 train_loss : 1.7513446807861328 dev_loss : 1.9787633419036865\n",
            "epoch : 81 train_loss : 1.750769019126892 dev_loss : 1.9789271354675293\n",
            "epoch : 82 train_loss : 1.750198483467102 dev_loss : 1.9790936708450317\n",
            "epoch : 83 train_loss : 1.7487342357635498 dev_loss : 1.9783806800842285\n",
            "epoch : 84 train_loss : 1.748382806777954 dev_loss : 1.9784493446350098\n",
            "epoch : 85 train_loss : 1.7480707168579102 dev_loss : 1.9785373210906982\n",
            "epoch : 86 train_loss : 1.7477693557739258 dev_loss : 1.978628158569336\n",
            "epoch : 87 train_loss : 1.747471570968628 dev_loss : 1.9787193536758423\n",
            "epoch : 88 train_loss : 1.747178316116333 dev_loss : 1.978808879852295\n",
            "epoch : 89 train_loss : 1.746630072593689 dev_loss : 1.9786319732666016\n",
            "epoch : 90 train_loss : 1.7464524507522583 dev_loss : 1.9786815643310547\n",
            "epoch : 91 train_loss : 1.746296763420105 dev_loss : 1.9787317514419556\n",
            "epoch : 92 train_loss : 1.7461408376693726 dev_loss : 1.978782057762146\n",
            "epoch : 93 train_loss : 1.7459931373596191 dev_loss : 1.9788306951522827\n",
            "epoch : 94 train_loss : 1.745840311050415 dev_loss : 1.978879690170288\n",
            "epoch : 95 train_loss : 1.7456305027008057 dev_loss : 1.9787712097167969\n",
            "epoch : 96 train_loss : 1.7455388307571411 dev_loss : 1.9788000583648682\n",
            "epoch : 97 train_loss : 1.745458960533142 dev_loss : 1.9788281917572021\n",
            "epoch : 98 train_loss : 1.7453826665878296 dev_loss : 1.9788562059402466\n",
            "epoch : 99 train_loss : 1.7453092336654663 dev_loss : 1.9788826704025269\n"
          ]
        }
      ],
      "source": [
        "optimizer = torch.optim.SGD(model.parameters(), lr=0.01)\n",
        "scheduler = torch.optim.lr_scheduler.ReduceLROnPlateau(optimizer, mode='min', factor=0.5, patience=5, verbose=True)\n",
        "batch_size = 64\n",
        "epochs = 100\n",
        "\n",
        "train_losses, dev_losses = train_model(model, \n",
        "                                       Xtr, \n",
        "                                       Ytr, \n",
        "                                       optimizer, \n",
        "                                       scheduler, \n",
        "                                       batch_size, \n",
        "                                       epochs)"
      ]
    },
    {
      "cell_type": "code",
      "execution_count": 11,
      "metadata": {
        "id": "ynl_vofcAvDf"
      },
      "outputs": [],
      "source": [
        "torch.save(model.state_dict(), \"wave_net_bn_best_pth\")"
      ]
    },
    {
      "cell_type": "code",
      "execution_count": 12,
      "metadata": {
        "colab": {
          "base_uri": "https://localhost:8080/",
          "height": 466
        },
        "id": "Td-jcyFHikIE",
        "outputId": "74643700-c561-4c83-976e-24c48730fad9"
      },
      "outputs": [
        {
          "data": {
            "text/plain": [
              "<matplotlib.legend.Legend at 0x7fff0be1b1c0>"
            ]
          },
          "execution_count": 12,
          "metadata": {},
          "output_type": "execute_result"
        },
        {
          "data": {
            "image/png": "[encoded data removed]",
            "text/plain": [
              "<Figure size 640x480 with 1 Axes>"
            ]
          },
          "metadata": {},
          "output_type": "display_data"
        }
      ],
      "source": [
        "# plot train and dev losses\n",
        "plt.plot(train_losses, label = 'train')\n",
        "plt.plot(dev_losses, label = 'dev')\n",
        "\n",
        "plt.xlabel('epoch')\n",
        "plt.ylabel('loss')\n",
        "\n",
        "plt.legend()"
      ]
    },
    {
      "cell_type": "code",
      "execution_count": 13,
      "metadata": {
        "colab": {
          "base_uri": "https://localhost:8080/"
        },
        "id": "uzDjIkqX6Uev",
        "outputId": "3c870a78-73fc-4ccc-efec-b1beb7227f9c"
      },
      "outputs": [
        {
          "name": "stdout",
          "output_type": "stream",
          "text": [
            "Training Loss: 1.745\n",
            "Validation Loss: 1.979\n",
            "Test Loss: 1.971\n"
          ]
        }
      ],
      "source": [
        "print(f\"Training Loss: {split_loss('train', model):0.3f}\")\n",
        "print(f\"Validation Loss: {split_loss('valid', model):0.3f}\")\n",
        "print(f\"Test Loss: {split_loss('test', model):0.3f}\")"
      ]
    },
    {
      "cell_type": "code",
      "execution_count": 14,
      "metadata": {
        "colab": {
          "base_uri": "https://localhost:8080/"
        },
        "id": "J7TWv5Uqrn-4",
        "outputId": "1a91fe4b-2bb3-4d6d-9091-8f793b7286d8"
      },
      "outputs": [
        {
          "name": "stdout",
          "output_type": "stream",
          "text": [
            "eletta\n",
            "amair\n",
            "copper\n",
            "jasiyan\n",
            "reyand\n",
            "hender\n",
            "chastin\n",
            "jermaj\n",
            "landieus\n",
            "leeana\n",
            "anne\n",
            "hayvee\n",
            "namarri\n",
            "ashtyn\n",
            "jilis\n",
            "tamaria\n",
            "amanaria\n",
            "aydan\n",
            "sapher\n",
            "julieth\n"
          ]
        }
      ],
      "source": [
        "sample(model)"
      ]
    },
    {
      "attachments": {},
      "cell_type": "markdown",
      "metadata": {},
      "source": [
        "# # E03: Using Convolutions"
      ]
    },
    {
      "cell_type": "code",
      "execution_count": 15,
      "metadata": {},
      "outputs": [],
      "source": [
        "class ModelCnn(nn.Module):\n",
        "    def __init__(self, vocabulary_size, n_embed, n_hidden, kernel_size, padding):\n",
        "        super(ModelCnn, self).__init__()\n",
        "        self.kernel_size = kernel_size\n",
        "        self.padding = padding\n",
        "        \n",
        "\n",
        "        self.model = nn.Sequential(\n",
        "            # Embedding\n",
        "            nn.Embedding(vocabulary_size, n_embed),\n",
        "            # Need to transpose for Conv1d which expects (batch, channels, sequence_length)\n",
        "            Lambda(lambda x: x.transpose(1, 2)),\n",
        "            # block 1\n",
        "            nn.Conv1d(n_embed, n_hidden, kernel_size=self.kernel_size, padding=self.padding, stride=2, bias=False),\n",
        "            # nn.BatchNorm1d(n_hidden),\n",
        "            nn.Tanh(),\n",
        "            # block 2\n",
        "            nn.Conv1d(n_hidden, n_hidden, kernel_size=self.kernel_size, padding=self.padding, stride=2, bias=False),\n",
        "            # nn.BatchNorm1d(n_hidden),\n",
        "            nn.Tanh(),\n",
        "            # block 3\n",
        "            nn.Conv1d(n_hidden, n_hidden, kernel_size=self.kernel_size, padding=self.padding, stride=2, bias=False),\n",
        "            # nn.BatchNorm1d(n_hidden),\n",
        "            nn.Tanh(),\n",
        "            # Transpose back for the final linear layer\n",
        "            Lambda(lambda x: x.transpose(1, 2)),\n",
        "            # output\n",
        "            nn.Linear(n_hidden, vocabulary_size, bias=False),\n",
        "        )\n",
        "        \n",
        "    def weights_init(self):\n",
        "        for m in self.model:\n",
        "            if isinstance(m, (nn.Linear, nn.Conv1d)):\n",
        "                nn.init.kaiming_normal_(m.weight, mode='fan_in', nonlinearity='tanh')\n",
        "\n",
        "    def forward(self, x):\n",
        "        x = self.model(x)\n",
        "        return x.squeeze(1)\n",
        "\n",
        "# Helper class for the transpose operations\n",
        "class Lambda(nn.Module):\n",
        "    def __init__(self, func):\n",
        "        super().__init__()\n",
        "        self.func = func\n",
        "\n",
        "    def forward(self, x):\n",
        "        return self.func(x)"
      ]
    },
    {
      "cell_type": "code",
      "execution_count": 16,
      "metadata": {},
      "outputs": [],
      "source": [
        "n_embed = 25\n",
        "n_hidden = 80\n",
        "kernel_size = 4\n",
        "padding = 1\n",
        "\n",
        "model = ModelCnn(\n",
        "    vocabulary_size= vocabulary_size,\n",
        "    n_embed= n_embed,\n",
        "    n_hidden= n_hidden,\n",
        "    kernel_size= kernel_size,\n",
        "    padding= padding).to(device)\n",
        "model(Xtr[:10]);\n",
        "train_losses = []\n",
        "dev_losses = []"
      ]
    },
    {
      "cell_type": "code",
      "execution_count": 17,
      "metadata": {},
      "outputs": [
        {
          "name": "stdout",
          "output_type": "stream",
          "text": [
            "epoch : 0 train_loss : 2.233205556869507 dev_loss : 2.234894037246704\n",
            "epoch : 1 train_loss : 2.1595685482025146 dev_loss : 2.169128179550171\n",
            "epoch : 2 train_loss : 2.112144708633423 dev_loss : 2.1305272579193115\n",
            "epoch : 3 train_loss : 2.0770537853240967 dev_loss : 2.105647563934326\n",
            "epoch : 4 train_loss : 2.0495386123657227 dev_loss : 2.089095115661621\n",
            "epoch : 5 train_loss : 2.026756525039673 dev_loss : 2.077436685562134\n",
            "epoch : 6 train_loss : 2.0071187019348145 dev_loss : 2.069103717803955\n",
            "epoch : 7 train_loss : 1.989794135093689 dev_loss : 2.0634095668792725\n",
            "epoch : 8 train_loss : 1.9746423959732056 dev_loss : 2.0598459243774414\n",
            "epoch : 9 train_loss : 1.961248755455017 dev_loss : 2.0576930046081543\n",
            "epoch : 10 train_loss : 1.948974370956421 dev_loss : 2.056109666824341\n",
            "epoch : 11 train_loss : 1.9376001358032227 dev_loss : 2.0547165870666504\n",
            "epoch : 12 train_loss : 1.927297592163086 dev_loss : 2.0536792278289795\n",
            "epoch : 13 train_loss : 1.9182236194610596 dev_loss : 2.053424119949341\n",
            "epoch : 14 train_loss : 1.9102681875228882 dev_loss : 2.0541021823883057\n",
            "epoch : 15 train_loss : 1.9034231901168823 dev_loss : 2.0556576251983643\n",
            "epoch : 16 train_loss : 1.89747154712677 dev_loss : 2.0577518939971924\n",
            "epoch : 17 train_loss : 1.8919647932052612 dev_loss : 2.059875965118408\n",
            "epoch : 18 train_loss : 1.886620283126831 dev_loss : 2.061810255050659\n",
            "epoch : 19 train_loss : 1.8816708326339722 dev_loss : 2.063782215118408\n",
            "epoch : 20 train_loss : 1.8417901992797852 dev_loss : 2.0447936058044434\n",
            "epoch : 21 train_loss : 1.8369863033294678 dev_loss : 2.0479493141174316\n",
            "epoch : 22 train_loss : 1.833380937576294 dev_loss : 2.0507819652557373\n",
            "epoch : 23 train_loss : 1.8302479982376099 dev_loss : 2.0534157752990723\n",
            "epoch : 24 train_loss : 1.827406406402588 dev_loss : 2.0559372901916504\n",
            "epoch : 25 train_loss : 1.8248209953308105 dev_loss : 2.058429479598999\n",
            "epoch : 26 train_loss : 1.8224350214004517 dev_loss : 2.060913562774658\n",
            "epoch : 27 train_loss : 1.799051284790039 dev_loss : 2.0509350299835205\n",
            "epoch : 28 train_loss : 1.7958886623382568 dev_loss : 2.052992343902588\n",
            "epoch : 29 train_loss : 1.7934684753417969 dev_loss : 2.054969310760498\n",
            "epoch : 30 train_loss : 1.7913480997085571 dev_loss : 2.0568313598632812\n",
            "epoch : 31 train_loss : 1.7893919944763184 dev_loss : 2.058617115020752\n",
            "epoch : 32 train_loss : 1.7875524759292603 dev_loss : 2.0603456497192383\n",
            "epoch : 33 train_loss : 1.7732212543487549 dev_loss : 2.0540850162506104\n",
            "epoch : 34 train_loss : 1.7712483406066895 dev_loss : 2.055222988128662\n",
            "epoch : 35 train_loss : 1.7697185277938843 dev_loss : 2.056405782699585\n",
            "epoch : 36 train_loss : 1.768343210220337 dev_loss : 2.057558059692383\n",
            "epoch : 37 train_loss : 1.76705801486969 dev_loss : 2.0586774349212646\n",
            "epoch : 38 train_loss : 1.7658283710479736 dev_loss : 2.0597646236419678\n",
            "epoch : 39 train_loss : 1.7577179670333862 dev_loss : 2.0559043884277344\n",
            "epoch : 40 train_loss : 1.7566057443618774 dev_loss : 2.056532144546509\n",
            "epoch : 41 train_loss : 1.7557369470596313 dev_loss : 2.057197332382202\n",
            "epoch : 42 train_loss : 1.7549468278884888 dev_loss : 2.057856559753418\n",
            "epoch : 43 train_loss : 1.754195213317871 dev_loss : 2.0585005283355713\n",
            "epoch : 44 train_loss : 1.7534774541854858 dev_loss : 2.059135913848877\n",
            "epoch : 45 train_loss : 1.7494014501571655 dev_loss : 2.0571587085723877\n",
            "epoch : 46 train_loss : 1.7488064765930176 dev_loss : 2.0574777126312256\n",
            "epoch : 47 train_loss : 1.748335361480713 dev_loss : 2.0578372478485107\n",
            "epoch : 48 train_loss : 1.7479041814804077 dev_loss : 2.0581963062286377\n",
            "epoch : 49 train_loss : 1.747493028640747 dev_loss : 2.058551549911499\n",
            "epoch : 50 train_loss : 1.7470992803573608 dev_loss : 2.0589025020599365\n",
            "epoch : 51 train_loss : 1.7453874349594116 dev_loss : 2.058044672012329\n",
            "epoch : 52 train_loss : 1.7450612783432007 dev_loss : 2.0581939220428467\n",
            "epoch : 53 train_loss : 1.744813323020935 dev_loss : 2.058375597000122\n",
            "epoch : 54 train_loss : 1.7445876598358154 dev_loss : 2.058562994003296\n",
            "epoch : 55 train_loss : 1.744375228881836 dev_loss : 2.0587515830993652\n",
            "epoch : 56 train_loss : 1.7441622018814087 dev_loss : 2.0589404106140137\n",
            "epoch : 57 train_loss : 1.7435450553894043 dev_loss : 2.0585978031158447\n",
            "epoch : 58 train_loss : 1.7433831691741943 dev_loss : 2.058668375015259\n",
            "epoch : 59 train_loss : 1.7432552576065063 dev_loss : 2.058760166168213\n",
            "epoch : 60 train_loss : 1.743135690689087 dev_loss : 2.058854103088379\n",
            "epoch : 61 train_loss : 1.7430267333984375 dev_loss : 2.058950185775757\n",
            "epoch : 62 train_loss : 1.7429202795028687 dev_loss : 2.059048891067505\n",
            "epoch : 63 train_loss : 1.742735505104065 dev_loss : 2.0589447021484375\n",
            "epoch : 64 train_loss : 1.7426530122756958 dev_loss : 2.058976411819458\n",
            "epoch : 65 train_loss : 1.742588758468628 dev_loss : 2.059023141860962\n",
            "epoch : 66 train_loss : 1.7425299882888794 dev_loss : 2.0590710639953613\n",
            "epoch : 67 train_loss : 1.7424733638763428 dev_loss : 2.0591211318969727\n",
            "epoch : 68 train_loss : 1.742419958114624 dev_loss : 2.0591704845428467\n",
            "epoch : 69 train_loss : 1.742362380027771 dev_loss : 2.0591554641723633\n",
            "epoch : 70 train_loss : 1.7423266172409058 dev_loss : 2.059169292449951\n",
            "epoch : 71 train_loss : 1.742294430732727 dev_loss : 2.0591907501220703\n",
            "epoch : 72 train_loss : 1.742262840270996 dev_loss : 2.0592145919799805\n",
            "epoch : 73 train_loss : 1.7422384023666382 dev_loss : 2.059239387512207\n",
            "epoch : 74 train_loss : 1.7422075271606445 dev_loss : 2.0592644214630127\n",
            "epoch : 75 train_loss : 1.7421923875808716 dev_loss : 2.05926775932312\n",
            "epoch : 76 train_loss : 1.7421739101409912 dev_loss : 2.0592780113220215\n",
            "epoch : 77 train_loss : 1.742156744003296 dev_loss : 2.0592870712280273\n",
            "epoch : 78 train_loss : 1.7421386241912842 dev_loss : 2.0592994689941406\n",
            "epoch : 79 train_loss : 1.7421283721923828 dev_loss : 2.0593109130859375\n",
            "epoch : 80 train_loss : 1.7421122789382935 dev_loss : 2.059323310852051\n",
            "epoch : 81 train_loss : 1.742106318473816 dev_loss : 2.0593278408050537\n",
            "epoch : 82 train_loss : 1.7420985698699951 dev_loss : 2.059333324432373\n",
            "epoch : 83 train_loss : 1.7420926094055176 dev_loss : 2.0593388080596924\n",
            "epoch : 84 train_loss : 1.7420880794525146 dev_loss : 2.05934476852417\n",
            "epoch : 85 train_loss : 1.7420814037322998 dev_loss : 2.0593507289886475\n",
            "epoch : 86 train_loss : 1.7420769929885864 dev_loss : 2.059356212615967\n",
            "epoch : 87 train_loss : 1.742071509361267 dev_loss : 2.059359550476074\n",
            "epoch : 88 train_loss : 1.742065191268921 dev_loss : 2.0593626499176025\n",
            "epoch : 89 train_loss : 1.742059350013733 dev_loss : 2.0593645572662354\n",
            "epoch : 90 train_loss : 1.7420576810836792 dev_loss : 2.0593676567077637\n",
            "epoch : 91 train_loss : 1.7420557737350464 dev_loss : 2.059370279312134\n",
            "epoch : 92 train_loss : 1.742051362991333 dev_loss : 2.059373617172241\n",
            "epoch : 93 train_loss : 1.7420451641082764 dev_loss : 2.059375286102295\n",
            "epoch : 94 train_loss : 1.7420448064804077 dev_loss : 2.0593764781951904\n",
            "epoch : 95 train_loss : 1.7420436143875122 dev_loss : 2.0593791007995605\n",
            "epoch : 96 train_loss : 1.7420403957366943 dev_loss : 2.0593795776367188\n",
            "epoch : 97 train_loss : 1.7420384883880615 dev_loss : 2.0593807697296143\n",
            "epoch : 98 train_loss : 1.7420387268066406 dev_loss : 2.059382677078247\n",
            "epoch : 99 train_loss : 1.7420405149459839 dev_loss : 2.0593836307525635\n"
          ]
        }
      ],
      "source": [
        "optimizer = torch.optim.SGD(model.parameters(), lr=0.1)\n",
        "scheduler = torch.optim.lr_scheduler.ReduceLROnPlateau(optimizer, mode='min', factor=0.5, patience=5, verbose=True)\n",
        "batch_size = 64\n",
        "epochs = 100\n",
        "\n",
        "train_losses, dev_losses = train_model(model, \n",
        "                                       Xtr, \n",
        "                                       Ytr, \n",
        "                                       optimizer, \n",
        "                                       scheduler, \n",
        "                                       batch_size, \n",
        "                                       epochs)"
      ]
    },
    {
      "cell_type": "code",
      "execution_count": 18,
      "metadata": {},
      "outputs": [
        {
          "data": {
            "text/plain": [
              "<matplotlib.legend.Legend at 0x7fff082906a0>"
            ]
          },
          "execution_count": 18,
          "metadata": {},
          "output_type": "execute_result"
        },
        {
          "data": {
            "image/png": "[encoded data removed]",
            "text/plain": [
              "<Figure size 640x480 with 1 Axes>"
            ]
          },
          "metadata": {},
          "output_type": "display_data"
        }
      ],
      "source": [
        "# plot train and dev losses\n",
        "plt.plot(train_losses, label = 'train')\n",
        "plt.plot(dev_losses, label = 'dev')\n",
        "\n",
        "plt.xlabel('epoch')\n",
        "plt.ylabel('loss')\n",
        "\n",
        "plt.legend()"
      ]
    },
    {
      "cell_type": "code",
      "execution_count": 19,
      "metadata": {},
      "outputs": [
        {
          "name": "stdout",
          "output_type": "stream",
          "text": [
            "Training Loss: 1.742\n",
            "Validation Loss: 2.059\n",
            "Test Loss: 2.049\n"
          ]
        }
      ],
      "source": [
        "print(f\"Training Loss: {split_loss('train', model):0.3f}\")\n",
        "print(f\"Validation Loss: {split_loss('valid', model):0.3f}\")\n",
        "print(f\"Test Loss: {split_loss('test', model):0.3f}\")"
      ]
    },
    {
      "cell_type": "code",
      "execution_count": 20,
      "metadata": {},
      "outputs": [
        {
          "name": "stdout",
          "output_type": "stream",
          "text": [
            "graisen\n",
            "amiyrah\n",
            "shoena\n",
            "nikolan\n",
            "elik\n",
            "athan\n",
            "rockwulle\n",
            "kalopainh\n",
            "janan\n",
            "daniya\n",
            "martirael\n",
            "kemir\n",
            "desanna\n",
            "stebonna\n",
            "mailani\n",
            "devanice\n",
            "hadan\n",
            "gabriel\n",
            "sabri\n",
            "dhida\n"
          ]
        }
      ],
      "source": [
        "sample(model)"
      ]
    }
  ],
  "metadata": {
    "accelerator": "GPU",
    "colab": {
      "gpuType": "T4",
      "provenance": []
    },
    "kernelspec": {
      "display_name": "Python (micromamba)",
      "language": "python",
      "name": "base"
    },
    "language_info": {
      "codemirror_mode": {
        "name": "ipython",
        "version": 3
      },
      "file_extension": ".py",
      "mimetype": "text/x-python",
      "name": "python",
      "nbconvert_exporter": "python",
      "pygments_lexer": "ipython3",
      "version": "3.10.14"
    }
  },
  "nbformat": 4,
  "nbformat_minor": 0
}
